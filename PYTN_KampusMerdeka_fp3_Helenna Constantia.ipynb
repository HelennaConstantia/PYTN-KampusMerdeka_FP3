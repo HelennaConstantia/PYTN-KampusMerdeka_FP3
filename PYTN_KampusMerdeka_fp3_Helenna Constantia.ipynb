{
 "cells": [
  {
   "cell_type": "markdown",
   "id": "e834a6ce",
   "metadata": {},
   "source": [
    "# Introduction"
   ]
  },
  {
   "cell_type": "markdown",
   "id": "85178f4f",
   "metadata": {},
   "source": [
    "Dataset diambil dari https://www.kaggle.com/andrewmvd/heart-failure-clinical-data. Dataset tersebut memuat informasi penderita penyakit jantung dan apakah masih hidup atau tidak. Terdapat 13 fitur yaitu :\n",
    "\n",
    "1. age - umur pasien\n",
    "2. anaemia - apakah ada pengurangan haemoglobin\n",
    "3. creatinine_phosphokinase - level enzim CPK dalam mcg/L\n",
    "4. diabetes - apakah pasien punya riwayat diabetes\n",
    "5. ejection_fraction - persentase darah yang meninggalkan jantung dalam persentasi\n",
    "di setiap kontraksi jantung\n",
    "6. high_blood_pressure - apakah pasien punya darah tinggi\n",
    "7. platelets - jumlah platelet di darah dalam kiloplatelets/mL\n",
    "8. serum_creatinine - level serum creatinine di darah dalam mg/dL\n",
    "9. serum_sodium - level serum sodium di darah dalam mEq/L\n",
    "10. sex - apakah pasien pria atau wanita\n",
    "11. smoking - apakah pasien merokok\n",
    "12. time - waktu dalam hari untuk follow-up\n",
    "13. DEATH_EVENT - apakah pasien sudah meninggal saat waktu follow-up\n"
   ]
  },
  {
   "cell_type": "markdown",
   "id": "46e8eb00",
   "metadata": {},
   "source": [
    "# Import Library"
   ]
  },
  {
   "cell_type": "code",
   "execution_count": 74,
   "id": "9e1036ea",
   "metadata": {},
   "outputs": [],
   "source": [
    "import pandas as pd\n",
    "import numpy as np\n",
    "import matplotlib\n",
    "import matplotlib.pyplot as plt\n",
    "import seaborn as sns\n",
    "import scipy\n",
    "from scipy.stats.mstats import winsorize\n",
    "from sklearn.model_selection import train_test_split\n",
    "from sklearn.preprocessing import StandardScaler\n",
    "from sklearn.ensemble import RandomForestClassifier\n",
    "from sklearn.metrics import accuracy_score, confusion_matrix, classification_report\n",
    "import pickle\n",
    "%matplotlib inline"
   ]
  },
  {
   "cell_type": "markdown",
   "id": "5ccab86d",
   "metadata": {},
   "source": [
    "# Data Loading"
   ]
  },
  {
   "cell_type": "code",
   "execution_count": 2,
   "id": "d66b0006",
   "metadata": {},
   "outputs": [],
   "source": [
    "df=pd.read_csv('d:Hactiv8/dataset/heart_failure_clinical_records_dataset.csv')\n",
    "pd.set_option('display.max.columns', None)"
   ]
  },
  {
   "cell_type": "code",
   "execution_count": 3,
   "id": "6c847b2e",
   "metadata": {},
   "outputs": [
    {
     "data": {
      "text/plain": [
       "(299, 13)"
      ]
     },
     "execution_count": 3,
     "metadata": {},
     "output_type": "execute_result"
    }
   ],
   "source": [
    "df.shape"
   ]
  },
  {
   "cell_type": "code",
   "execution_count": 4,
   "id": "fcac0f2e",
   "metadata": {},
   "outputs": [
    {
     "data": {
      "text/plain": [
       "Index(['age', 'anaemia', 'creatinine_phosphokinase', 'diabetes',\n",
       "       'ejection_fraction', 'high_blood_pressure', 'platelets',\n",
       "       'serum_creatinine', 'serum_sodium', 'sex', 'smoking', 'time',\n",
       "       'DEATH_EVENT'],\n",
       "      dtype='object')"
      ]
     },
     "execution_count": 4,
     "metadata": {},
     "output_type": "execute_result"
    }
   ],
   "source": [
    "df.columns"
   ]
  },
  {
   "cell_type": "code",
   "execution_count": 5,
   "id": "abf5162e",
   "metadata": {},
   "outputs": [
    {
     "name": "stdout",
     "output_type": "stream",
     "text": [
      "<class 'pandas.core.frame.DataFrame'>\n",
      "RangeIndex: 299 entries, 0 to 298\n",
      "Data columns (total 13 columns):\n",
      " #   Column                    Non-Null Count  Dtype  \n",
      "---  ------                    --------------  -----  \n",
      " 0   age                       299 non-null    float64\n",
      " 1   anaemia                   299 non-null    int64  \n",
      " 2   creatinine_phosphokinase  299 non-null    int64  \n",
      " 3   diabetes                  299 non-null    int64  \n",
      " 4   ejection_fraction         299 non-null    int64  \n",
      " 5   high_blood_pressure       299 non-null    int64  \n",
      " 6   platelets                 299 non-null    float64\n",
      " 7   serum_creatinine          299 non-null    float64\n",
      " 8   serum_sodium              299 non-null    int64  \n",
      " 9   sex                       299 non-null    int64  \n",
      " 10  smoking                   299 non-null    int64  \n",
      " 11  time                      299 non-null    int64  \n",
      " 12  DEATH_EVENT               299 non-null    int64  \n",
      "dtypes: float64(3), int64(10)\n",
      "memory usage: 30.5 KB\n"
     ]
    }
   ],
   "source": [
    "df.info()"
   ]
  },
  {
   "cell_type": "markdown",
   "id": "f57dc8c4",
   "metadata": {},
   "source": [
    "Meskipun semua data bertipe numerik namun terdapat beberapa fitur kategori"
   ]
  },
  {
   "cell_type": "code",
   "execution_count": 6,
   "id": "f98c4e7d",
   "metadata": {},
   "outputs": [
    {
     "data": {
      "text/html": [
       "<div>\n",
       "<style scoped>\n",
       "    .dataframe tbody tr th:only-of-type {\n",
       "        vertical-align: middle;\n",
       "    }\n",
       "\n",
       "    .dataframe tbody tr th {\n",
       "        vertical-align: top;\n",
       "    }\n",
       "\n",
       "    .dataframe thead th {\n",
       "        text-align: right;\n",
       "    }\n",
       "</style>\n",
       "<table border=\"1\" class=\"dataframe\">\n",
       "  <thead>\n",
       "    <tr style=\"text-align: right;\">\n",
       "      <th></th>\n",
       "      <th>age</th>\n",
       "      <th>anaemia</th>\n",
       "      <th>creatinine_phosphokinase</th>\n",
       "      <th>diabetes</th>\n",
       "      <th>ejection_fraction</th>\n",
       "      <th>high_blood_pressure</th>\n",
       "      <th>platelets</th>\n",
       "      <th>serum_creatinine</th>\n",
       "      <th>serum_sodium</th>\n",
       "      <th>sex</th>\n",
       "      <th>smoking</th>\n",
       "      <th>time</th>\n",
       "      <th>DEATH_EVENT</th>\n",
       "    </tr>\n",
       "  </thead>\n",
       "  <tbody>\n",
       "    <tr>\n",
       "      <th>0</th>\n",
       "      <td>75.0</td>\n",
       "      <td>0</td>\n",
       "      <td>582</td>\n",
       "      <td>0</td>\n",
       "      <td>20</td>\n",
       "      <td>1</td>\n",
       "      <td>265000.00</td>\n",
       "      <td>1.9</td>\n",
       "      <td>130</td>\n",
       "      <td>1</td>\n",
       "      <td>0</td>\n",
       "      <td>4</td>\n",
       "      <td>1</td>\n",
       "    </tr>\n",
       "    <tr>\n",
       "      <th>1</th>\n",
       "      <td>55.0</td>\n",
       "      <td>0</td>\n",
       "      <td>7861</td>\n",
       "      <td>0</td>\n",
       "      <td>38</td>\n",
       "      <td>0</td>\n",
       "      <td>263358.03</td>\n",
       "      <td>1.1</td>\n",
       "      <td>136</td>\n",
       "      <td>1</td>\n",
       "      <td>0</td>\n",
       "      <td>6</td>\n",
       "      <td>1</td>\n",
       "    </tr>\n",
       "    <tr>\n",
       "      <th>2</th>\n",
       "      <td>65.0</td>\n",
       "      <td>0</td>\n",
       "      <td>146</td>\n",
       "      <td>0</td>\n",
       "      <td>20</td>\n",
       "      <td>0</td>\n",
       "      <td>162000.00</td>\n",
       "      <td>1.3</td>\n",
       "      <td>129</td>\n",
       "      <td>1</td>\n",
       "      <td>1</td>\n",
       "      <td>7</td>\n",
       "      <td>1</td>\n",
       "    </tr>\n",
       "    <tr>\n",
       "      <th>3</th>\n",
       "      <td>50.0</td>\n",
       "      <td>1</td>\n",
       "      <td>111</td>\n",
       "      <td>0</td>\n",
       "      <td>20</td>\n",
       "      <td>0</td>\n",
       "      <td>210000.00</td>\n",
       "      <td>1.9</td>\n",
       "      <td>137</td>\n",
       "      <td>1</td>\n",
       "      <td>0</td>\n",
       "      <td>7</td>\n",
       "      <td>1</td>\n",
       "    </tr>\n",
       "    <tr>\n",
       "      <th>4</th>\n",
       "      <td>65.0</td>\n",
       "      <td>1</td>\n",
       "      <td>160</td>\n",
       "      <td>1</td>\n",
       "      <td>20</td>\n",
       "      <td>0</td>\n",
       "      <td>327000.00</td>\n",
       "      <td>2.7</td>\n",
       "      <td>116</td>\n",
       "      <td>0</td>\n",
       "      <td>0</td>\n",
       "      <td>8</td>\n",
       "      <td>1</td>\n",
       "    </tr>\n",
       "  </tbody>\n",
       "</table>\n",
       "</div>"
      ],
      "text/plain": [
       "    age  anaemia  creatinine_phosphokinase  diabetes  ejection_fraction  \\\n",
       "0  75.0        0                       582         0                 20   \n",
       "1  55.0        0                      7861         0                 38   \n",
       "2  65.0        0                       146         0                 20   \n",
       "3  50.0        1                       111         0                 20   \n",
       "4  65.0        1                       160         1                 20   \n",
       "\n",
       "   high_blood_pressure  platelets  serum_creatinine  serum_sodium  sex  \\\n",
       "0                    1  265000.00               1.9           130    1   \n",
       "1                    0  263358.03               1.1           136    1   \n",
       "2                    0  162000.00               1.3           129    1   \n",
       "3                    0  210000.00               1.9           137    1   \n",
       "4                    0  327000.00               2.7           116    0   \n",
       "\n",
       "   smoking  time  DEATH_EVENT  \n",
       "0        0     4            1  \n",
       "1        0     6            1  \n",
       "2        1     7            1  \n",
       "3        0     7            1  \n",
       "4        0     8            1  "
      ]
     },
     "execution_count": 6,
     "metadata": {},
     "output_type": "execute_result"
    }
   ],
   "source": [
    "df.head()"
   ]
  },
  {
   "cell_type": "markdown",
   "id": "2660b85f",
   "metadata": {},
   "source": [
    "Fitur kategorikal :\n",
    "- anaemia\n",
    "0 : no, 1 : yes\n",
    "- diabetes\n",
    "0: no, 1 : yes\n",
    "- high_blood_pressure\n",
    "0 : no, 1: yes\n",
    "- sex\n",
    "0: female, 1:male\n",
    "- smoking\n",
    "0: no, 1: yes\n",
    "- DEATH_EVENT\n",
    "0 : tidak meninggal saat masa follow up, 1 : meninggal saat follow up\n"
   ]
  },
  {
   "cell_type": "code",
   "execution_count": 7,
   "id": "94bba9b2",
   "metadata": {},
   "outputs": [
    {
     "data": {
      "text/plain": [
       "age                         False\n",
       "anaemia                     False\n",
       "creatinine_phosphokinase    False\n",
       "diabetes                    False\n",
       "ejection_fraction           False\n",
       "high_blood_pressure         False\n",
       "platelets                   False\n",
       "serum_creatinine            False\n",
       "serum_sodium                False\n",
       "sex                         False\n",
       "smoking                     False\n",
       "time                        False\n",
       "DEATH_EVENT                 False\n",
       "dtype: bool"
      ]
     },
     "execution_count": 7,
     "metadata": {},
     "output_type": "execute_result"
    }
   ],
   "source": [
    "df.isnull().any()"
   ]
  },
  {
   "cell_type": "markdown",
   "id": "2bcff961",
   "metadata": {},
   "source": [
    "Tidak terdapat missing value pada dataset tersebut"
   ]
  },
  {
   "cell_type": "code",
   "execution_count": 8,
   "id": "3866419e",
   "metadata": {},
   "outputs": [
    {
     "data": {
      "text/html": [
       "<div>\n",
       "<style scoped>\n",
       "    .dataframe tbody tr th:only-of-type {\n",
       "        vertical-align: middle;\n",
       "    }\n",
       "\n",
       "    .dataframe tbody tr th {\n",
       "        vertical-align: top;\n",
       "    }\n",
       "\n",
       "    .dataframe thead th {\n",
       "        text-align: right;\n",
       "    }\n",
       "</style>\n",
       "<table border=\"1\" class=\"dataframe\">\n",
       "  <thead>\n",
       "    <tr style=\"text-align: right;\">\n",
       "      <th></th>\n",
       "      <th>age</th>\n",
       "      <th>anaemia</th>\n",
       "      <th>creatinine_phosphokinase</th>\n",
       "      <th>diabetes</th>\n",
       "      <th>ejection_fraction</th>\n",
       "      <th>high_blood_pressure</th>\n",
       "      <th>platelets</th>\n",
       "      <th>serum_creatinine</th>\n",
       "      <th>serum_sodium</th>\n",
       "      <th>sex</th>\n",
       "      <th>smoking</th>\n",
       "      <th>time</th>\n",
       "      <th>DEATH_EVENT</th>\n",
       "    </tr>\n",
       "  </thead>\n",
       "  <tbody>\n",
       "    <tr>\n",
       "      <th>count</th>\n",
       "      <td>299.000000</td>\n",
       "      <td>299.000000</td>\n",
       "      <td>299.000000</td>\n",
       "      <td>299.000000</td>\n",
       "      <td>299.000000</td>\n",
       "      <td>299.000000</td>\n",
       "      <td>299.000000</td>\n",
       "      <td>299.00000</td>\n",
       "      <td>299.000000</td>\n",
       "      <td>299.000000</td>\n",
       "      <td>299.00000</td>\n",
       "      <td>299.000000</td>\n",
       "      <td>299.00000</td>\n",
       "    </tr>\n",
       "    <tr>\n",
       "      <th>mean</th>\n",
       "      <td>60.833893</td>\n",
       "      <td>0.431438</td>\n",
       "      <td>581.839465</td>\n",
       "      <td>0.418060</td>\n",
       "      <td>38.083612</td>\n",
       "      <td>0.351171</td>\n",
       "      <td>263358.029264</td>\n",
       "      <td>1.39388</td>\n",
       "      <td>136.625418</td>\n",
       "      <td>0.648829</td>\n",
       "      <td>0.32107</td>\n",
       "      <td>130.260870</td>\n",
       "      <td>0.32107</td>\n",
       "    </tr>\n",
       "    <tr>\n",
       "      <th>std</th>\n",
       "      <td>11.894809</td>\n",
       "      <td>0.496107</td>\n",
       "      <td>970.287881</td>\n",
       "      <td>0.494067</td>\n",
       "      <td>11.834841</td>\n",
       "      <td>0.478136</td>\n",
       "      <td>97804.236869</td>\n",
       "      <td>1.03451</td>\n",
       "      <td>4.412477</td>\n",
       "      <td>0.478136</td>\n",
       "      <td>0.46767</td>\n",
       "      <td>77.614208</td>\n",
       "      <td>0.46767</td>\n",
       "    </tr>\n",
       "    <tr>\n",
       "      <th>min</th>\n",
       "      <td>40.000000</td>\n",
       "      <td>0.000000</td>\n",
       "      <td>23.000000</td>\n",
       "      <td>0.000000</td>\n",
       "      <td>14.000000</td>\n",
       "      <td>0.000000</td>\n",
       "      <td>25100.000000</td>\n",
       "      <td>0.50000</td>\n",
       "      <td>113.000000</td>\n",
       "      <td>0.000000</td>\n",
       "      <td>0.00000</td>\n",
       "      <td>4.000000</td>\n",
       "      <td>0.00000</td>\n",
       "    </tr>\n",
       "    <tr>\n",
       "      <th>25%</th>\n",
       "      <td>51.000000</td>\n",
       "      <td>0.000000</td>\n",
       "      <td>116.500000</td>\n",
       "      <td>0.000000</td>\n",
       "      <td>30.000000</td>\n",
       "      <td>0.000000</td>\n",
       "      <td>212500.000000</td>\n",
       "      <td>0.90000</td>\n",
       "      <td>134.000000</td>\n",
       "      <td>0.000000</td>\n",
       "      <td>0.00000</td>\n",
       "      <td>73.000000</td>\n",
       "      <td>0.00000</td>\n",
       "    </tr>\n",
       "    <tr>\n",
       "      <th>50%</th>\n",
       "      <td>60.000000</td>\n",
       "      <td>0.000000</td>\n",
       "      <td>250.000000</td>\n",
       "      <td>0.000000</td>\n",
       "      <td>38.000000</td>\n",
       "      <td>0.000000</td>\n",
       "      <td>262000.000000</td>\n",
       "      <td>1.10000</td>\n",
       "      <td>137.000000</td>\n",
       "      <td>1.000000</td>\n",
       "      <td>0.00000</td>\n",
       "      <td>115.000000</td>\n",
       "      <td>0.00000</td>\n",
       "    </tr>\n",
       "    <tr>\n",
       "      <th>75%</th>\n",
       "      <td>70.000000</td>\n",
       "      <td>1.000000</td>\n",
       "      <td>582.000000</td>\n",
       "      <td>1.000000</td>\n",
       "      <td>45.000000</td>\n",
       "      <td>1.000000</td>\n",
       "      <td>303500.000000</td>\n",
       "      <td>1.40000</td>\n",
       "      <td>140.000000</td>\n",
       "      <td>1.000000</td>\n",
       "      <td>1.00000</td>\n",
       "      <td>203.000000</td>\n",
       "      <td>1.00000</td>\n",
       "    </tr>\n",
       "    <tr>\n",
       "      <th>max</th>\n",
       "      <td>95.000000</td>\n",
       "      <td>1.000000</td>\n",
       "      <td>7861.000000</td>\n",
       "      <td>1.000000</td>\n",
       "      <td>80.000000</td>\n",
       "      <td>1.000000</td>\n",
       "      <td>850000.000000</td>\n",
       "      <td>9.40000</td>\n",
       "      <td>148.000000</td>\n",
       "      <td>1.000000</td>\n",
       "      <td>1.00000</td>\n",
       "      <td>285.000000</td>\n",
       "      <td>1.00000</td>\n",
       "    </tr>\n",
       "  </tbody>\n",
       "</table>\n",
       "</div>"
      ],
      "text/plain": [
       "              age     anaemia  creatinine_phosphokinase    diabetes  \\\n",
       "count  299.000000  299.000000                299.000000  299.000000   \n",
       "mean    60.833893    0.431438                581.839465    0.418060   \n",
       "std     11.894809    0.496107                970.287881    0.494067   \n",
       "min     40.000000    0.000000                 23.000000    0.000000   \n",
       "25%     51.000000    0.000000                116.500000    0.000000   \n",
       "50%     60.000000    0.000000                250.000000    0.000000   \n",
       "75%     70.000000    1.000000                582.000000    1.000000   \n",
       "max     95.000000    1.000000               7861.000000    1.000000   \n",
       "\n",
       "       ejection_fraction  high_blood_pressure      platelets  \\\n",
       "count         299.000000           299.000000     299.000000   \n",
       "mean           38.083612             0.351171  263358.029264   \n",
       "std            11.834841             0.478136   97804.236869   \n",
       "min            14.000000             0.000000   25100.000000   \n",
       "25%            30.000000             0.000000  212500.000000   \n",
       "50%            38.000000             0.000000  262000.000000   \n",
       "75%            45.000000             1.000000  303500.000000   \n",
       "max            80.000000             1.000000  850000.000000   \n",
       "\n",
       "       serum_creatinine  serum_sodium         sex    smoking        time  \\\n",
       "count         299.00000    299.000000  299.000000  299.00000  299.000000   \n",
       "mean            1.39388    136.625418    0.648829    0.32107  130.260870   \n",
       "std             1.03451      4.412477    0.478136    0.46767   77.614208   \n",
       "min             0.50000    113.000000    0.000000    0.00000    4.000000   \n",
       "25%             0.90000    134.000000    0.000000    0.00000   73.000000   \n",
       "50%             1.10000    137.000000    1.000000    0.00000  115.000000   \n",
       "75%             1.40000    140.000000    1.000000    1.00000  203.000000   \n",
       "max             9.40000    148.000000    1.000000    1.00000  285.000000   \n",
       "\n",
       "       DEATH_EVENT  \n",
       "count    299.00000  \n",
       "mean       0.32107  \n",
       "std        0.46767  \n",
       "min        0.00000  \n",
       "25%        0.00000  \n",
       "50%        0.00000  \n",
       "75%        1.00000  \n",
       "max        1.00000  "
      ]
     },
     "execution_count": 8,
     "metadata": {},
     "output_type": "execute_result"
    }
   ],
   "source": [
    "df.describe()"
   ]
  },
  {
   "cell_type": "markdown",
   "id": "7b7216f0",
   "metadata": {},
   "source": [
    "# Data Cleaning"
   ]
  },
  {
   "cell_type": "code",
   "execution_count": 9,
   "id": "976678c1",
   "metadata": {},
   "outputs": [
    {
     "data": {
      "text/html": [
       "<div>\n",
       "<style scoped>\n",
       "    .dataframe tbody tr th:only-of-type {\n",
       "        vertical-align: middle;\n",
       "    }\n",
       "\n",
       "    .dataframe tbody tr th {\n",
       "        vertical-align: top;\n",
       "    }\n",
       "\n",
       "    .dataframe thead th {\n",
       "        text-align: right;\n",
       "    }\n",
       "</style>\n",
       "<table border=\"1\" class=\"dataframe\">\n",
       "  <thead>\n",
       "    <tr style=\"text-align: right;\">\n",
       "      <th></th>\n",
       "      <th>age</th>\n",
       "      <th>anaemia</th>\n",
       "      <th>creatinine_phosphokinase</th>\n",
       "      <th>diabetes</th>\n",
       "      <th>ejection_fraction</th>\n",
       "      <th>hypertension</th>\n",
       "      <th>platelets</th>\n",
       "      <th>serum_creatinine</th>\n",
       "      <th>serum_sodium</th>\n",
       "      <th>sex</th>\n",
       "      <th>smoking</th>\n",
       "      <th>time</th>\n",
       "      <th>death_event</th>\n",
       "    </tr>\n",
       "  </thead>\n",
       "  <tbody>\n",
       "    <tr>\n",
       "      <th>0</th>\n",
       "      <td>75.0</td>\n",
       "      <td>0</td>\n",
       "      <td>582</td>\n",
       "      <td>0</td>\n",
       "      <td>20</td>\n",
       "      <td>1</td>\n",
       "      <td>265000.00</td>\n",
       "      <td>1.9</td>\n",
       "      <td>130</td>\n",
       "      <td>1</td>\n",
       "      <td>0</td>\n",
       "      <td>4</td>\n",
       "      <td>1</td>\n",
       "    </tr>\n",
       "    <tr>\n",
       "      <th>1</th>\n",
       "      <td>55.0</td>\n",
       "      <td>0</td>\n",
       "      <td>7861</td>\n",
       "      <td>0</td>\n",
       "      <td>38</td>\n",
       "      <td>0</td>\n",
       "      <td>263358.03</td>\n",
       "      <td>1.1</td>\n",
       "      <td>136</td>\n",
       "      <td>1</td>\n",
       "      <td>0</td>\n",
       "      <td>6</td>\n",
       "      <td>1</td>\n",
       "    </tr>\n",
       "    <tr>\n",
       "      <th>2</th>\n",
       "      <td>65.0</td>\n",
       "      <td>0</td>\n",
       "      <td>146</td>\n",
       "      <td>0</td>\n",
       "      <td>20</td>\n",
       "      <td>0</td>\n",
       "      <td>162000.00</td>\n",
       "      <td>1.3</td>\n",
       "      <td>129</td>\n",
       "      <td>1</td>\n",
       "      <td>1</td>\n",
       "      <td>7</td>\n",
       "      <td>1</td>\n",
       "    </tr>\n",
       "    <tr>\n",
       "      <th>3</th>\n",
       "      <td>50.0</td>\n",
       "      <td>1</td>\n",
       "      <td>111</td>\n",
       "      <td>0</td>\n",
       "      <td>20</td>\n",
       "      <td>0</td>\n",
       "      <td>210000.00</td>\n",
       "      <td>1.9</td>\n",
       "      <td>137</td>\n",
       "      <td>1</td>\n",
       "      <td>0</td>\n",
       "      <td>7</td>\n",
       "      <td>1</td>\n",
       "    </tr>\n",
       "    <tr>\n",
       "      <th>4</th>\n",
       "      <td>65.0</td>\n",
       "      <td>1</td>\n",
       "      <td>160</td>\n",
       "      <td>1</td>\n",
       "      <td>20</td>\n",
       "      <td>0</td>\n",
       "      <td>327000.00</td>\n",
       "      <td>2.7</td>\n",
       "      <td>116</td>\n",
       "      <td>0</td>\n",
       "      <td>0</td>\n",
       "      <td>8</td>\n",
       "      <td>1</td>\n",
       "    </tr>\n",
       "  </tbody>\n",
       "</table>\n",
       "</div>"
      ],
      "text/plain": [
       "    age  anaemia  creatinine_phosphokinase  diabetes  ejection_fraction  \\\n",
       "0  75.0        0                       582         0                 20   \n",
       "1  55.0        0                      7861         0                 38   \n",
       "2  65.0        0                       146         0                 20   \n",
       "3  50.0        1                       111         0                 20   \n",
       "4  65.0        1                       160         1                 20   \n",
       "\n",
       "   hypertension  platelets  serum_creatinine  serum_sodium  sex  smoking  \\\n",
       "0             1  265000.00               1.9           130    1        0   \n",
       "1             0  263358.03               1.1           136    1        0   \n",
       "2             0  162000.00               1.3           129    1        1   \n",
       "3             0  210000.00               1.9           137    1        0   \n",
       "4             0  327000.00               2.7           116    0        0   \n",
       "\n",
       "   time  death_event  \n",
       "0     4            1  \n",
       "1     6            1  \n",
       "2     7            1  \n",
       "3     7            1  \n",
       "4     8            1  "
      ]
     },
     "execution_count": 9,
     "metadata": {},
     "output_type": "execute_result"
    }
   ],
   "source": [
    "df.rename(columns={'DEATH_EVENT':'death_event','high_blood_pressure':'hypertension'}, inplace=True)\n",
    "df.head()"
   ]
  },
  {
   "cell_type": "markdown",
   "id": "a0aa97a7",
   "metadata": {},
   "source": [
    "dataset tidak memiliki missing value dan sudah rapi sehingga proses cleaning data dapat dilewati atau dalam projek ini hanya merename kolom 'DEATH_EVENT' dan 'high_blood_pressure'"
   ]
  },
  {
   "cell_type": "markdown",
   "id": "360a5faa",
   "metadata": {},
   "source": [
    "# Data Exploration"
   ]
  },
  {
   "cell_type": "markdown",
   "id": "7b97f07e",
   "metadata": {},
   "source": [
    "## Data Kategorikal"
   ]
  },
  {
   "cell_type": "code",
   "execution_count": 10,
   "id": "12a9c0fe",
   "metadata": {},
   "outputs": [
    {
     "data": {
      "text/html": [
       "<div>\n",
       "<style scoped>\n",
       "    .dataframe tbody tr th:only-of-type {\n",
       "        vertical-align: middle;\n",
       "    }\n",
       "\n",
       "    .dataframe tbody tr th {\n",
       "        vertical-align: top;\n",
       "    }\n",
       "\n",
       "    .dataframe thead th {\n",
       "        text-align: right;\n",
       "    }\n",
       "</style>\n",
       "<table border=\"1\" class=\"dataframe\">\n",
       "  <thead>\n",
       "    <tr style=\"text-align: right;\">\n",
       "      <th></th>\n",
       "      <th>0</th>\n",
       "      <th>1</th>\n",
       "    </tr>\n",
       "  </thead>\n",
       "  <tbody>\n",
       "    <tr>\n",
       "      <th>40s</th>\n",
       "      <td>36</td>\n",
       "      <td>11</td>\n",
       "    </tr>\n",
       "    <tr>\n",
       "      <th>50s</th>\n",
       "      <td>98</td>\n",
       "      <td>31</td>\n",
       "    </tr>\n",
       "    <tr>\n",
       "      <th>60s</th>\n",
       "      <td>164</td>\n",
       "      <td>58</td>\n",
       "    </tr>\n",
       "    <tr>\n",
       "      <th>70s</th>\n",
       "      <td>196</td>\n",
       "      <td>78</td>\n",
       "    </tr>\n",
       "    <tr>\n",
       "      <th>80s</th>\n",
       "      <td>202</td>\n",
       "      <td>91</td>\n",
       "    </tr>\n",
       "    <tr>\n",
       "      <th>90s</th>\n",
       "      <td>203</td>\n",
       "      <td>96</td>\n",
       "    </tr>\n",
       "  </tbody>\n",
       "</table>\n",
       "</div>"
      ],
      "text/plain": [
       "       0   1\n",
       "40s   36  11\n",
       "50s   98  31\n",
       "60s  164  58\n",
       "70s  196  78\n",
       "80s  202  91\n",
       "90s  203  96"
      ]
     },
     "execution_count": 10,
     "metadata": {},
     "output_type": "execute_result"
    }
   ],
   "source": [
    "#melihat death_event berdasarkan kelompok usia\n",
    "death_event_40s=df.loc[df['age']<50,'death_event'].value_counts()\n",
    "death_event_50s=df.loc[df['age']<60,'death_event'].value_counts()\n",
    "death_event_60s=df.loc[df['age']<70,'death_event'].value_counts()\n",
    "death_event_70s=df.loc[df['age']<80,'death_event'].value_counts()\n",
    "death_event_80s=df.loc[df['age']<90,'death_event'].value_counts()\n",
    "death_event_90s=df.loc[df['age']<100,'death_event'].value_counts()\n",
    "#membuat data frame dari fitur death_event berdasarkan pengelompokan usia\n",
    "df_deathByAge=pd.DataFrame({'40s':death_event_40s,'50s':death_event_50s,\n",
    "             '60s':death_event_60s,'70s':death_event_70s,\n",
    "             '80s':death_event_80s,'90s':death_event_90s})\n",
    "df_deathByAge=df_deathByAge.transpose()\n",
    "df_deathByAge"
   ]
  },
  {
   "cell_type": "code",
   "execution_count": 11,
   "id": "3c0ef284",
   "metadata": {},
   "outputs": [
    {
     "data": {
      "image/png": "[encoded data removed]",
      "text/plain": [
       "<Figure size 720x432 with 1 Axes>"
      ]
     },
     "metadata": {
      "needs_background": "light"
     },
     "output_type": "display_data"
    }
   ],
   "source": [
    "#visualisasi data death_event berdasarkan kelompok usia\n",
    "df_deathByAge.plot(kind='bar', figsize=(10,6),\n",
    "                  color=['blueviolet','deepskyblue'])\n",
    "plt.title('Death Event by Age', fontsize=15)\n",
    "plt.xlabel('Age', fontsize=12)\n",
    "plt.ylabel('Count', fontsize=12)\n",
    "plt.show()"
   ]
  },
  {
   "cell_type": "markdown",
   "id": "d5ea8f50",
   "metadata": {},
   "source": [
    "dari bar chart tersebut tampak bahwa semakin tinggi usia seseorang semakin rentan terkena penyakit jantung dan semakin besar juga jumlah meninggalnya. "
   ]
  },
  {
   "cell_type": "code",
   "execution_count": 12,
   "id": "9da3ab5a",
   "metadata": {},
   "outputs": [],
   "source": [
    "def color():\n",
    "    for x,y in matplotlib.colors.cnames.items():\n",
    "        print(x,y)"
   ]
  },
  {
   "cell_type": "code",
   "execution_count": 13,
   "id": "b240f9e5",
   "metadata": {},
   "outputs": [
    {
     "data": {
      "text/html": [
       "<div>\n",
       "<style scoped>\n",
       "    .dataframe tbody tr th:only-of-type {\n",
       "        vertical-align: middle;\n",
       "    }\n",
       "\n",
       "    .dataframe tbody tr th {\n",
       "        vertical-align: top;\n",
       "    }\n",
       "\n",
       "    .dataframe thead th {\n",
       "        text-align: right;\n",
       "    }\n",
       "</style>\n",
       "<table border=\"1\" class=\"dataframe\">\n",
       "  <thead>\n",
       "    <tr style=\"text-align: right;\">\n",
       "      <th></th>\n",
       "      <th>age</th>\n",
       "      <th>anaemia</th>\n",
       "      <th>creatinine_phosphokinase</th>\n",
       "      <th>diabetes</th>\n",
       "      <th>ejection_fraction</th>\n",
       "      <th>hypertension</th>\n",
       "      <th>platelets</th>\n",
       "      <th>serum_creatinine</th>\n",
       "      <th>serum_sodium</th>\n",
       "      <th>sex</th>\n",
       "      <th>smoking</th>\n",
       "      <th>time</th>\n",
       "      <th>death_event</th>\n",
       "    </tr>\n",
       "  </thead>\n",
       "  <tbody>\n",
       "    <tr>\n",
       "      <th>0</th>\n",
       "      <td>75.0</td>\n",
       "      <td>0</td>\n",
       "      <td>582</td>\n",
       "      <td>0</td>\n",
       "      <td>20</td>\n",
       "      <td>1</td>\n",
       "      <td>265000.00</td>\n",
       "      <td>1.9</td>\n",
       "      <td>130</td>\n",
       "      <td>1</td>\n",
       "      <td>0</td>\n",
       "      <td>4</td>\n",
       "      <td>1</td>\n",
       "    </tr>\n",
       "    <tr>\n",
       "      <th>1</th>\n",
       "      <td>55.0</td>\n",
       "      <td>0</td>\n",
       "      <td>7861</td>\n",
       "      <td>0</td>\n",
       "      <td>38</td>\n",
       "      <td>0</td>\n",
       "      <td>263358.03</td>\n",
       "      <td>1.1</td>\n",
       "      <td>136</td>\n",
       "      <td>1</td>\n",
       "      <td>0</td>\n",
       "      <td>6</td>\n",
       "      <td>1</td>\n",
       "    </tr>\n",
       "    <tr>\n",
       "      <th>2</th>\n",
       "      <td>65.0</td>\n",
       "      <td>0</td>\n",
       "      <td>146</td>\n",
       "      <td>0</td>\n",
       "      <td>20</td>\n",
       "      <td>0</td>\n",
       "      <td>162000.00</td>\n",
       "      <td>1.3</td>\n",
       "      <td>129</td>\n",
       "      <td>1</td>\n",
       "      <td>1</td>\n",
       "      <td>7</td>\n",
       "      <td>1</td>\n",
       "    </tr>\n",
       "    <tr>\n",
       "      <th>3</th>\n",
       "      <td>50.0</td>\n",
       "      <td>1</td>\n",
       "      <td>111</td>\n",
       "      <td>0</td>\n",
       "      <td>20</td>\n",
       "      <td>0</td>\n",
       "      <td>210000.00</td>\n",
       "      <td>1.9</td>\n",
       "      <td>137</td>\n",
       "      <td>1</td>\n",
       "      <td>0</td>\n",
       "      <td>7</td>\n",
       "      <td>1</td>\n",
       "    </tr>\n",
       "    <tr>\n",
       "      <th>4</th>\n",
       "      <td>65.0</td>\n",
       "      <td>1</td>\n",
       "      <td>160</td>\n",
       "      <td>1</td>\n",
       "      <td>20</td>\n",
       "      <td>0</td>\n",
       "      <td>327000.00</td>\n",
       "      <td>2.7</td>\n",
       "      <td>116</td>\n",
       "      <td>0</td>\n",
       "      <td>0</td>\n",
       "      <td>8</td>\n",
       "      <td>1</td>\n",
       "    </tr>\n",
       "  </tbody>\n",
       "</table>\n",
       "</div>"
      ],
      "text/plain": [
       "    age  anaemia  creatinine_phosphokinase  diabetes  ejection_fraction  \\\n",
       "0  75.0        0                       582         0                 20   \n",
       "1  55.0        0                      7861         0                 38   \n",
       "2  65.0        0                       146         0                 20   \n",
       "3  50.0        1                       111         0                 20   \n",
       "4  65.0        1                       160         1                 20   \n",
       "\n",
       "   hypertension  platelets  serum_creatinine  serum_sodium  sex  smoking  \\\n",
       "0             1  265000.00               1.9           130    1        0   \n",
       "1             0  263358.03               1.1           136    1        0   \n",
       "2             0  162000.00               1.3           129    1        1   \n",
       "3             0  210000.00               1.9           137    1        0   \n",
       "4             0  327000.00               2.7           116    0        0   \n",
       "\n",
       "   time  death_event  \n",
       "0     4            1  \n",
       "1     6            1  \n",
       "2     7            1  \n",
       "3     7            1  \n",
       "4     8            1  "
      ]
     },
     "execution_count": 13,
     "metadata": {},
     "output_type": "execute_result"
    }
   ],
   "source": [
    "df.head()"
   ]
  },
  {
   "cell_type": "code",
   "execution_count": 14,
   "id": "62bed8cd",
   "metadata": {},
   "outputs": [
    {
     "data": {
      "text/html": [
       "<div>\n",
       "<style scoped>\n",
       "    .dataframe tbody tr th:only-of-type {\n",
       "        vertical-align: middle;\n",
       "    }\n",
       "\n",
       "    .dataframe tbody tr th {\n",
       "        vertical-align: top;\n",
       "    }\n",
       "\n",
       "    .dataframe thead th {\n",
       "        text-align: right;\n",
       "    }\n",
       "</style>\n",
       "<table border=\"1\" class=\"dataframe\">\n",
       "  <thead>\n",
       "    <tr style=\"text-align: right;\">\n",
       "      <th></th>\n",
       "      <th>Number</th>\n",
       "    </tr>\n",
       "    <tr>\n",
       "      <th>Keterangan</th>\n",
       "      <th></th>\n",
       "    </tr>\n",
       "  </thead>\n",
       "  <tbody>\n",
       "    <tr>\n",
       "      <th>male_not_survived</th>\n",
       "      <td>62</td>\n",
       "    </tr>\n",
       "    <tr>\n",
       "      <th>female_not_survived</th>\n",
       "      <td>34</td>\n",
       "    </tr>\n",
       "    <tr>\n",
       "      <th>male_survived</th>\n",
       "      <td>132</td>\n",
       "    </tr>\n",
       "    <tr>\n",
       "      <th>female_survived</th>\n",
       "      <td>71</td>\n",
       "    </tr>\n",
       "  </tbody>\n",
       "</table>\n",
       "</div>"
      ],
      "text/plain": [
       "                     Number\n",
       "Keterangan                 \n",
       "male_not_survived        62\n",
       "female_not_survived      34\n",
       "male_survived           132\n",
       "female_survived          71"
      ]
     },
     "execution_count": 14,
     "metadata": {},
     "output_type": "execute_result"
    }
   ],
   "source": [
    "#jumlah yang meninggal dan tidak meninggal berdasarkan gender\n",
    "female=df[df['sex']==0]\n",
    "male=df[df['sex']==1]\n",
    "male_not_survived=len(male[male['death_event']==1])\n",
    "female_not_survived=len(female[female['death_event']==1])\n",
    "male_survived=len(male[male['death_event']==0])\n",
    "female_survived=len(female[female['death_event']==0])\n",
    "df_survivalBySex=pd.DataFrame({'Keterangan':['male_not_survived',\n",
    "                                           'female_not_survived',\n",
    "                                           'male_survived',\n",
    "                                           'female_survived'],\n",
    "                             'Number': [male_not_survived,female_not_survived,\n",
    "                                       male_survived,female_survived]})\n",
    "df_survivalBySex=df_survivalBySex.set_index('Keterangan')\n",
    "df_survivalBySex"
   ]
  },
  {
   "cell_type": "code",
   "execution_count": 15,
   "id": "e9e25d43",
   "metadata": {},
   "outputs": [
    {
     "data": {
      "text/plain": [
       "<matplotlib.legend.Legend at 0x1590cba2190>"
      ]
     },
     "execution_count": 15,
     "metadata": {},
     "output_type": "execute_result"
    },
    {
     "data": {
      "image/png": "[encoded data removed]",
      "text/plain": [
       "<Figure size 1296x576 with 1 Axes>"
      ]
     },
     "metadata": {},
     "output_type": "display_data"
    }
   ],
   "source": [
    "#membuat pie chart dari data survival berdasar gender\n",
    "color_list=['deeppink','hotpink','mistyrose','lightyellow']\n",
    "df_survivalBySex['Number'].plot(kind='pie', figsize=(18,8),\n",
    "                               autopct='%1.1f%%',\n",
    "                                colors=color_list,labels=None)\n",
    "plt.title('Survival by Gender', fontsize=16)\n",
    "plt.axis('equal')\n",
    "plt.legend(labels=df_survivalBySex.index)"
   ]
  },
  {
   "cell_type": "markdown",
   "id": "4f917955",
   "metadata": {},
   "source": [
    "Terdapat lebih banyak penderita penyakit jantung dengan gender laki-laki dibandingkan perempuan demikian juga jumlah laki-laki yang meninggal akibat penyakit jantung lebih banyak dibandingkan perempuan."
   ]
  },
  {
   "cell_type": "code",
   "execution_count": 16,
   "id": "c3d7c2c6",
   "metadata": {},
   "outputs": [
    {
     "data": {
      "text/html": [
       "<div>\n",
       "<style scoped>\n",
       "    .dataframe tbody tr th:only-of-type {\n",
       "        vertical-align: middle;\n",
       "    }\n",
       "\n",
       "    .dataframe tbody tr th {\n",
       "        vertical-align: top;\n",
       "    }\n",
       "\n",
       "    .dataframe thead th {\n",
       "        text-align: right;\n",
       "    }\n",
       "</style>\n",
       "<table border=\"1\" class=\"dataframe\">\n",
       "  <thead>\n",
       "    <tr style=\"text-align: right;\">\n",
       "      <th></th>\n",
       "      <th>Number</th>\n",
       "    </tr>\n",
       "    <tr>\n",
       "      <th>keterangan</th>\n",
       "      <th></th>\n",
       "    </tr>\n",
       "  </thead>\n",
       "  <tbody>\n",
       "    <tr>\n",
       "      <th>male_smoking</th>\n",
       "      <td>92</td>\n",
       "    </tr>\n",
       "    <tr>\n",
       "      <th>female_smoking</th>\n",
       "      <td>4</td>\n",
       "    </tr>\n",
       "    <tr>\n",
       "      <th>male_not_smoking</th>\n",
       "      <td>102</td>\n",
       "    </tr>\n",
       "    <tr>\n",
       "      <th>female_not_smoking</th>\n",
       "      <td>101</td>\n",
       "    </tr>\n",
       "  </tbody>\n",
       "</table>\n",
       "</div>"
      ],
      "text/plain": [
       "                    Number\n",
       "keterangan                \n",
       "male_smoking            92\n",
       "female_smoking           4\n",
       "male_not_smoking       102\n",
       "female_not_smoking     101"
      ]
     },
     "execution_count": 16,
     "metadata": {},
     "output_type": "execute_result"
    }
   ],
   "source": [
    "male_smoking=len(male[male['smoking']==1])\n",
    "female_smoking=len(female[female['smoking']==1])\n",
    "male_not_smoking=len(male[male['smoking']==0])\n",
    "female_not_smoking=len(female[female['smoking']==0])\n",
    "df_smokingByGender=pd.DataFrame({'keterangan':['male_smoking','female_smoking','male_not_smoking','female_not_smoking'],\n",
    "                                'Number':[male_smoking,female_smoking,male_not_smoking,female_not_smoking]})\n",
    "df_smokingByGender=df_smokingByGender.set_index('keterangan')\n",
    "df_smokingByGender"
   ]
  },
  {
   "cell_type": "code",
   "execution_count": 17,
   "id": "611b2892",
   "metadata": {},
   "outputs": [
    {
     "data": {
      "text/plain": [
       "<matplotlib.legend.Legend at 0x1590ca14700>"
      ]
     },
     "execution_count": 17,
     "metadata": {},
     "output_type": "execute_result"
    },
    {
     "data": {
      "image/png": "[encoded data removed]",
      "text/plain": [
       "<Figure size 1296x576 with 1 Axes>"
      ]
     },
     "metadata": {},
     "output_type": "display_data"
    }
   ],
   "source": [
    "#pie chart smoking by gender\n",
    "color_list2=['gainsboro','darkolivegreen','cornflowerblue','rosybrown']\n",
    "explode_list=[0,0.1,0,0]\n",
    "df_smokingByGender['Number'].plot(kind='pie', labels=None,\n",
    "                                  figsize=(18,8),autopct='%1.1f%%',\n",
    "                                 colors=color_list2,\n",
    "                                 explode=explode_list,\n",
    "                                 pctdistance=1.12)\n",
    "plt.title('Smokers by Gender', fontsize=16)\n",
    "plt.axis('equal')\n",
    "plt.legend(labels=df_smokingByGender.index)"
   ]
  },
  {
   "cell_type": "markdown",
   "id": "bb916c7c",
   "metadata": {},
   "source": [
    "Perokok dengan jenis kelamin perempuan sangatlah sedikit yaitu hanya 1.3% sementara perokok dengan jenis kelamin laki-laki mencapai 30.8%. Informasi tersebut mengindikasikan merokok meningkatkan kemungkinan kematian akibat penyakit jantung. Untuk memastikan hal tersebut akan dibuat juga grafik yang menunjukan jumlah yang meninggal maupun tidak berdasarkan perokok dan yang bukan perokok"
   ]
  },
  {
   "cell_type": "code",
   "execution_count": 18,
   "id": "2dec5312",
   "metadata": {},
   "outputs": [
    {
     "data": {
      "text/plain": [
       "96"
      ]
     },
     "execution_count": 18,
     "metadata": {},
     "output_type": "execute_result"
    }
   ],
   "source": [
    "#jumlah yang merokok\n",
    "len(df[df['smoking']==1])"
   ]
  },
  {
   "cell_type": "code",
   "execution_count": 19,
   "id": "b10a5ec1",
   "metadata": {},
   "outputs": [
    {
     "data": {
      "text/html": [
       "<div>\n",
       "<style scoped>\n",
       "    .dataframe tbody tr th:only-of-type {\n",
       "        vertical-align: middle;\n",
       "    }\n",
       "\n",
       "    .dataframe tbody tr th {\n",
       "        vertical-align: top;\n",
       "    }\n",
       "\n",
       "    .dataframe thead th {\n",
       "        text-align: right;\n",
       "    }\n",
       "</style>\n",
       "<table border=\"1\" class=\"dataframe\">\n",
       "  <thead>\n",
       "    <tr style=\"text-align: right;\">\n",
       "      <th>death_event</th>\n",
       "      <th>0</th>\n",
       "      <th>1</th>\n",
       "    </tr>\n",
       "    <tr>\n",
       "      <th>smoking</th>\n",
       "      <th></th>\n",
       "      <th></th>\n",
       "    </tr>\n",
       "  </thead>\n",
       "  <tbody>\n",
       "    <tr>\n",
       "      <th>0</th>\n",
       "      <td>137</td>\n",
       "      <td>66</td>\n",
       "    </tr>\n",
       "    <tr>\n",
       "      <th>1</th>\n",
       "      <td>66</td>\n",
       "      <td>30</td>\n",
       "    </tr>\n",
       "  </tbody>\n",
       "</table>\n",
       "</div>"
      ],
      "text/plain": [
       "death_event    0   1\n",
       "smoking             \n",
       "0            137  66\n",
       "1             66  30"
      ]
     },
     "execution_count": 19,
     "metadata": {},
     "output_type": "execute_result"
    }
   ],
   "source": [
    "df_deathBySmoking=df.groupby(['smoking','death_event'])['death_event'].count().unstack()\n",
    "df_deathBySmoking"
   ]
  },
  {
   "cell_type": "code",
   "execution_count": 20,
   "id": "b5bef670",
   "metadata": {},
   "outputs": [
    {
     "data": {
      "text/html": [
       "<div>\n",
       "<style scoped>\n",
       "    .dataframe tbody tr th:only-of-type {\n",
       "        vertical-align: middle;\n",
       "    }\n",
       "\n",
       "    .dataframe tbody tr th {\n",
       "        vertical-align: top;\n",
       "    }\n",
       "\n",
       "    .dataframe thead th {\n",
       "        text-align: right;\n",
       "    }\n",
       "</style>\n",
       "<table border=\"1\" class=\"dataframe\">\n",
       "  <thead>\n",
       "    <tr style=\"text-align: right;\">\n",
       "      <th></th>\n",
       "      <th>Number</th>\n",
       "    </tr>\n",
       "    <tr>\n",
       "      <th>keterangan</th>\n",
       "      <th></th>\n",
       "    </tr>\n",
       "  </thead>\n",
       "  <tbody>\n",
       "    <tr>\n",
       "      <th>survive_smoking</th>\n",
       "      <td>66</td>\n",
       "    </tr>\n",
       "    <tr>\n",
       "      <th>death_smoking</th>\n",
       "      <td>30</td>\n",
       "    </tr>\n",
       "    <tr>\n",
       "      <th>survive_not_smoking</th>\n",
       "      <td>137</td>\n",
       "    </tr>\n",
       "    <tr>\n",
       "      <th>death_not_smoking</th>\n",
       "      <td>66</td>\n",
       "    </tr>\n",
       "  </tbody>\n",
       "</table>\n",
       "</div>"
      ],
      "text/plain": [
       "                     Number\n",
       "keterangan                 \n",
       "survive_smoking          66\n",
       "death_smoking            30\n",
       "survive_not_smoking     137\n",
       "death_not_smoking        66"
      ]
     },
     "execution_count": 20,
     "metadata": {},
     "output_type": "execute_result"
    }
   ],
   "source": [
    "survive=df[df['death_event']==0]\n",
    "death=df[df['death_event']==1]\n",
    "survive_smoking=len(survive[survive['smoking']==1])\n",
    "death_smoking=len(death[death['smoking']==1])\n",
    "survive_not_smoking=len(survive[survive['smoking']==0])\n",
    "death_not_smoking=len(death[death['smoking']==0])\n",
    "df_deathBySmoking2=pd.DataFrame({'keterangan':['survive_smoking','death_smoking','survive_not_smoking','death_not_smoking'],\n",
    "                                'Number':[survive_smoking,death_smoking,survive_not_smoking,death_not_smoking]})\n",
    "df_deathBySmoking2=df_deathBySmoking2.set_index('keterangan')\n",
    "df_deathBySmoking2"
   ]
  },
  {
   "cell_type": "code",
   "execution_count": 21,
   "id": "7d584e31",
   "metadata": {},
   "outputs": [
    {
     "data": {
      "text/plain": [
       "<matplotlib.legend.Legend at 0x1590ca06610>"
      ]
     },
     "execution_count": 21,
     "metadata": {},
     "output_type": "execute_result"
    },
    {
     "data": {
      "image/png": "[encoded data removed]",
      "text/plain": [
       "<Figure size 432x288 with 1 Axes>"
      ]
     },
     "metadata": {
      "needs_background": "light"
     },
     "output_type": "display_data"
    }
   ],
   "source": [
    "#visualisasi dalam bar chart\n",
    "fig, ax=plt.subplots()\n",
    "#plot pertama(dibawah) yaitu orang yang tidak merokok\n",
    "ax.bar(df_deathBySmoking.index, df_deathBySmoking[0],label='Tidak merokok')\n",
    "#plot bar diatas yaitu orang yang merkok\n",
    "ax.bar(df_deathBySmoking.index, df_deathBySmoking[1], label='Merokok')\n",
    "#menetapkan xticks, ylabel, dan judul\n",
    "ax.set_xticks((0,1))\n",
    "ax.set_xticklabels(['tidak meninggal','meninggal'])\n",
    "ax.set_ylabel('Jumlah')\n",
    "ax.set_title('Jumlah kematian berdasarkan perokok dan bukan perokok')\n",
    "ax.legend()"
   ]
  },
  {
   "cell_type": "code",
   "execution_count": 22,
   "id": "e33e37d1",
   "metadata": {},
   "outputs": [
    {
     "data": {
      "text/plain": [
       "<matplotlib.legend.Legend at 0x1590cb96cd0>"
      ]
     },
     "execution_count": 22,
     "metadata": {},
     "output_type": "execute_result"
    },
    {
     "data": {
      "image/png": "[encoded data removed]",
      "text/plain": [
       "<Figure size 1296x576 with 1 Axes>"
      ]
     },
     "metadata": {},
     "output_type": "display_data"
    }
   ],
   "source": [
    "#pie chart death event by smoking\n",
    "color_list2=['gainsboro','rebeccapurple','plum','rosybrown']\n",
    "df_deathBySmoking2['Number'].plot(kind='pie',\n",
    "                                  figsize=(18,8),autopct='%1.1f%%',\n",
    "                                 colors=color_list2,\n",
    "                                 fontsize=14)\n",
    "plt.title('Survival by Smoking', fontsize=18)\n",
    "plt.axis('equal')\n",
    "plt.legend(labels=df_deathBySmoking2.index)"
   ]
  },
  {
   "cell_type": "markdown",
   "id": "893be49f",
   "metadata": {},
   "source": [
    "Dari pie chart dan bar chart tersebut dapat dilihat bahwa orang yang tidak merokok lebih banyak yang tidak meninggal yaitu sebanyak 45.8%  namun merokok tidak bisa disimpulkan sebagai penyebab utama kematian dari penyakit jantung karena hanya ada 96 orang dari 299 data orang yang merokok dan mengidap penyakit jantung dengan persentase kematian sebesar 10%"
   ]
  },
  {
   "cell_type": "code",
   "execution_count": 23,
   "id": "8fcaec08",
   "metadata": {},
   "outputs": [
    {
     "data": {
      "text/html": [
       "<div>\n",
       "<style scoped>\n",
       "    .dataframe tbody tr th:only-of-type {\n",
       "        vertical-align: middle;\n",
       "    }\n",
       "\n",
       "    .dataframe tbody tr th {\n",
       "        vertical-align: top;\n",
       "    }\n",
       "\n",
       "    .dataframe thead th {\n",
       "        text-align: right;\n",
       "    }\n",
       "</style>\n",
       "<table border=\"1\" class=\"dataframe\">\n",
       "  <thead>\n",
       "    <tr style=\"text-align: right;\">\n",
       "      <th></th>\n",
       "      <th>no</th>\n",
       "      <th>yes</th>\n",
       "    </tr>\n",
       "    <tr>\n",
       "      <th>keterangan</th>\n",
       "      <th></th>\n",
       "      <th></th>\n",
       "    </tr>\n",
       "  </thead>\n",
       "  <tbody>\n",
       "    <tr>\n",
       "      <th>anemia</th>\n",
       "      <td>170</td>\n",
       "      <td>129</td>\n",
       "    </tr>\n",
       "    <tr>\n",
       "      <th>diabetes</th>\n",
       "      <td>174</td>\n",
       "      <td>125</td>\n",
       "    </tr>\n",
       "    <tr>\n",
       "      <th>hipertensi</th>\n",
       "      <td>194</td>\n",
       "      <td>105</td>\n",
       "    </tr>\n",
       "  </tbody>\n",
       "</table>\n",
       "</div>"
      ],
      "text/plain": [
       "             no  yes\n",
       "keterangan          \n",
       "anemia      170  129\n",
       "diabetes    174  125\n",
       "hipertensi  194  105"
      ]
     },
     "execution_count": 23,
     "metadata": {},
     "output_type": "execute_result"
    }
   ],
   "source": [
    "#jumlah penderita anemia\n",
    "anemia=len(df[df['anaemia']==1])\n",
    "not_anemia=len(df[df['anaemia']==0])\n",
    "#jumlah penderita diabetes\n",
    "diabetes=len(df[df['diabetes']==1])\n",
    "not_diabetes=len(df[df['diabetes']==0])\n",
    "#jumlah penderita hipertensi\n",
    "hypertension=len(df[df['hypertension']==1])\n",
    "not_hypertension=len(df[df['hypertension']==0])\n",
    "#membuat dataframe dari jumlah penderita diabetes, anemia, dan hipertensi\n",
    "df_anemia_diabet_hyper=pd.DataFrame(\n",
    "    {'keterangan':['anemia','diabetes','hipertensi'],\n",
    "     'no':[not_anemia,not_diabetes,not_hypertension],\n",
    "    'yes':[anemia,diabetes,hypertension],\n",
    "    })\n",
    "#mensetting index\n",
    "df_anemia_diabet_hyper=df_anemia_diabet_hyper.set_index('keterangan')\n",
    "df_anemia_diabet_hyper"
   ]
  },
  {
   "cell_type": "code",
   "execution_count": 24,
   "id": "764aea49",
   "metadata": {},
   "outputs": [
    {
     "data": {
      "image/png": "[encoded data removed]",
      "text/plain": [
       "<Figure size 720x432 with 1 Axes>"
      ]
     },
     "metadata": {
      "needs_background": "light"
     },
     "output_type": "display_data"
    }
   ],
   "source": [
    "#visualisasi jumlah penderita anemia, diabetes, hipertensi\n",
    "df_anemia_diabet_hyper.plot(kind='bar', figsize=(10,6),\n",
    "                  color=['saddlebrown','plum'])\n",
    "plt.title('Penderita Anemia, Diabetes, dan Hipertensi', fontsize=18)\n",
    "plt.xlabel('Penyakit', fontsize=12)\n",
    "plt.ylabel('Count', fontsize=12)\n",
    "\n",
    "plt.show()"
   ]
  },
  {
   "cell_type": "markdown",
   "id": "62c9c021",
   "metadata": {},
   "source": [
    "Penderita penyakit jantung paling banyak memiliki riwayat penyakit anemia diikuti diabetes dan hipertensi. Selanjutnya akan dilihat apakah orang yang tidak memiliki riwayat ketiga penyakit tersebut lebih banyak yang survive dibanding yang memiliki riwayat penyakit tersebut."
   ]
  },
  {
   "cell_type": "code",
   "execution_count": 25,
   "id": "2d97d42f",
   "metadata": {},
   "outputs": [
    {
     "name": "stdout",
     "output_type": "stream",
     "text": [
      "meninggal : 6\n",
      "tidak meninggal : 11\n"
     ]
    }
   ],
   "source": [
    "#mengambil data pasien yang memiliki riwayat ketiga penyakit tersebut\n",
    "df_ADH=df.loc[(df['anaemia']==1) & (df['diabetes']==1) & (df['hypertension']==1)]\n",
    "death_ADH=len(df_ADH[df_ADH['death_event']==1])\n",
    "not_death_ADH=len(df_ADH[df_ADH['death_event']==0])\n",
    "print('meninggal :',death_ADH)\n",
    "print('tidak meninggal :', not_death_ADH)"
   ]
  },
  {
   "cell_type": "code",
   "execution_count": 26,
   "id": "87b87c59",
   "metadata": {},
   "outputs": [
    {
     "name": "stdout",
     "output_type": "stream",
     "text": [
      "meninggal : 18\n",
      "tidak meninggal : 35\n"
     ]
    }
   ],
   "source": [
    "#mengambil data pasien yang memiliki riwayat penyakit anemia dan diabetes\n",
    "df_AD=df.loc[(df['anaemia']==1) & (df['diabetes']==1)]\n",
    "death_AD=len(df_AD[df_AD['death_event']==1])\n",
    "not_death_AD=len(df_AD[df_AD['death_event']==0])\n",
    "print('meninggal :',death_AD)\n",
    "print('tidak meninggal :', not_death_AD)"
   ]
  },
  {
   "cell_type": "code",
   "execution_count": 27,
   "id": "20384cbd",
   "metadata": {},
   "outputs": [
    {
     "name": "stdout",
     "output_type": "stream",
     "text": [
      "meninggal : 19\n",
      "tidak meninggal : 29\n"
     ]
    }
   ],
   "source": [
    "#mengambil data pasien yang memiliki riwayat penyakit anemia dan hipertensi\n",
    "df_AH=df.loc[(df['anaemia']==1)  & (df['hypertension']==1)]\n",
    "death_AH=len(df_AH[df_AH['death_event']==1])\n",
    "not_death_AH=len(df_AH[df_AH['death_event']==0])\n",
    "print('meninggal :',death_AH)\n",
    "print('tidak meninggal :', not_death_AH)"
   ]
  },
  {
   "cell_type": "code",
   "execution_count": 28,
   "id": "c39effd7",
   "metadata": {},
   "outputs": [
    {
     "name": "stdout",
     "output_type": "stream",
     "text": [
      "meninggal : 17\n",
      "tidak meninggal : 26\n"
     ]
    }
   ],
   "source": [
    "#mengambil data pasien yang memiliki riwayat penyakit diabetes dan hipertensi\n",
    "df_DH=df.loc[(df['diabetes']==1) & (df['hypertension']==1)]\n",
    "death_DH=len(df_DH[df_DH['death_event']==1])\n",
    "not_death_DH=len(df_DH[df_DH['death_event']==0])\n",
    "print('meninggal :',death_DH)\n",
    "print('tidak meninggal :', not_death_DH)"
   ]
  },
  {
   "cell_type": "code",
   "execution_count": 29,
   "id": "1221fa97",
   "metadata": {},
   "outputs": [
    {
     "name": "stdout",
     "output_type": "stream",
     "text": [
      "meninggal : 46\n",
      "tidak meninggal : 83\n"
     ]
    }
   ],
   "source": [
    "#mengambil data pasien yang memiliki riwayat penyakit anemia\n",
    "df_A=df.loc[(df['anaemia']==1) ]\n",
    "death_A=len(df_A[df_A['death_event']==1])\n",
    "not_death_A=len(df_A[df_A['death_event']==0])\n",
    "print('meninggal :',death_A)\n",
    "print('tidak meninggal :', not_death_A)"
   ]
  },
  {
   "cell_type": "code",
   "execution_count": 30,
   "id": "2765f945",
   "metadata": {},
   "outputs": [
    {
     "name": "stdout",
     "output_type": "stream",
     "text": [
      "meninggal : 40\n",
      "tidak meninggal : 85\n"
     ]
    }
   ],
   "source": [
    "#mengambil data pasien yang memiliki riwayat penyakit diabetes\n",
    "df_D=df.loc[(df['diabetes']==1)]\n",
    "death_D=len(df_D[df_D['death_event']==1])\n",
    "not_death_D=len(df_D[df_D['death_event']==0])\n",
    "print('meninggal :',death_D)\n",
    "print('tidak meninggal :', not_death_D)"
   ]
  },
  {
   "cell_type": "code",
   "execution_count": 31,
   "id": "0dc93e87",
   "metadata": {},
   "outputs": [
    {
     "name": "stdout",
     "output_type": "stream",
     "text": [
      "meninggal : 39\n",
      "tidak meninggal : 66\n"
     ]
    }
   ],
   "source": [
    "#mengambil data pasien yang memiliki riwayat penyakit hipertensi\n",
    "df_H=df.loc[(df['hypertension']==1)]\n",
    "death_H=len(df_H[df_H['death_event']==1])\n",
    "not_death_H=len(df_H[df_H['death_event']==0])\n",
    "print('meninggal :',death_H)\n",
    "print('tidak meninggal :', not_death_H)"
   ]
  },
  {
   "cell_type": "code",
   "execution_count": 32,
   "id": "2cebf3c6",
   "metadata": {},
   "outputs": [
    {
     "data": {
      "text/html": [
       "<div>\n",
       "<style scoped>\n",
       "    .dataframe tbody tr th:only-of-type {\n",
       "        vertical-align: middle;\n",
       "    }\n",
       "\n",
       "    .dataframe tbody tr th {\n",
       "        vertical-align: top;\n",
       "    }\n",
       "\n",
       "    .dataframe thead th {\n",
       "        text-align: right;\n",
       "    }\n",
       "</style>\n",
       "<table border=\"1\" class=\"dataframe\">\n",
       "  <thead>\n",
       "    <tr style=\"text-align: right;\">\n",
       "      <th></th>\n",
       "      <th>keterangan</th>\n",
       "      <th>Meninggal</th>\n",
       "      <th>Tidak meninggal</th>\n",
       "      <th>meninggal(%)</th>\n",
       "    </tr>\n",
       "  </thead>\n",
       "  <tbody>\n",
       "    <tr>\n",
       "      <th>0</th>\n",
       "      <td>Anemia, Diabetes, dan Hipertensi</td>\n",
       "      <td>6</td>\n",
       "      <td>11</td>\n",
       "      <td>35.29</td>\n",
       "    </tr>\n",
       "    <tr>\n",
       "      <th>1</th>\n",
       "      <td>anemia dan diabetes</td>\n",
       "      <td>18</td>\n",
       "      <td>35</td>\n",
       "      <td>33.96</td>\n",
       "    </tr>\n",
       "    <tr>\n",
       "      <th>2</th>\n",
       "      <td>anemia dan hipertensi</td>\n",
       "      <td>19</td>\n",
       "      <td>29</td>\n",
       "      <td>39.58</td>\n",
       "    </tr>\n",
       "    <tr>\n",
       "      <th>3</th>\n",
       "      <td>diabetes dan hipertensi</td>\n",
       "      <td>17</td>\n",
       "      <td>26</td>\n",
       "      <td>39.53</td>\n",
       "    </tr>\n",
       "    <tr>\n",
       "      <th>4</th>\n",
       "      <td>anemia</td>\n",
       "      <td>46</td>\n",
       "      <td>83</td>\n",
       "      <td>35.66</td>\n",
       "    </tr>\n",
       "    <tr>\n",
       "      <th>5</th>\n",
       "      <td>diabetes</td>\n",
       "      <td>40</td>\n",
       "      <td>85</td>\n",
       "      <td>32.00</td>\n",
       "    </tr>\n",
       "    <tr>\n",
       "      <th>6</th>\n",
       "      <td>hipertensi</td>\n",
       "      <td>39</td>\n",
       "      <td>66</td>\n",
       "      <td>37.14</td>\n",
       "    </tr>\n",
       "  </tbody>\n",
       "</table>\n",
       "</div>"
      ],
      "text/plain": [
       "                         keterangan  Meninggal  Tidak meninggal  meninggal(%)\n",
       "0  Anemia, Diabetes, dan Hipertensi          6               11         35.29\n",
       "1               anemia dan diabetes         18               35         33.96\n",
       "2             anemia dan hipertensi         19               29         39.58\n",
       "3           diabetes dan hipertensi         17               26         39.53\n",
       "4                            anemia         46               83         35.66\n",
       "5                          diabetes         40               85         32.00\n",
       "6                        hipertensi         39               66         37.14"
      ]
     },
     "execution_count": 32,
     "metadata": {},
     "output_type": "execute_result"
    }
   ],
   "source": [
    "#Membuat dataframe baru berdasarkan informasi diatas\n",
    "keterangan=['Anemia, Diabetes, dan Hipertensi',\n",
    "           'anemia dan diabetes',\n",
    "           'anemia dan hipertensi',\n",
    "           'diabetes dan hipertensi',\n",
    "           'anemia','diabetes','hipertensi']\n",
    "meninggal=[death_ADH, death_AD, death_AH, death_DH,\n",
    "           death_A,death_D,death_H]\n",
    "tidak_meninggal=[not_death_ADH, not_death_AD,\n",
    "                not_death_AH, not_death_DH,\n",
    "                not_death_A, not_death_D, not_death_H]\n",
    "ADH_df=pd.DataFrame({'keterangan':keterangan,'Meninggal':meninggal,\n",
    "             'Tidak meninggal':tidak_meninggal})\n",
    "persen=pd.DataFrame({'meninggal(%)':round((ADH_df['Meninggal']/(ADH_df['Meninggal']+ADH_df['Tidak meninggal']))*100,2)})\n",
    "ADH_df=pd.concat([ADH_df,persen], axis=1)\n",
    "ADH_df"
   ]
  },
  {
   "cell_type": "code",
   "execution_count": 33,
   "id": "3a189ced",
   "metadata": {},
   "outputs": [
    {
     "data": {
      "text/html": [
       "<div>\n",
       "<style scoped>\n",
       "    .dataframe tbody tr th:only-of-type {\n",
       "        vertical-align: middle;\n",
       "    }\n",
       "\n",
       "    .dataframe tbody tr th {\n",
       "        vertical-align: top;\n",
       "    }\n",
       "\n",
       "    .dataframe thead th {\n",
       "        text-align: right;\n",
       "    }\n",
       "</style>\n",
       "<table border=\"1\" class=\"dataframe\">\n",
       "  <thead>\n",
       "    <tr style=\"text-align: right;\">\n",
       "      <th></th>\n",
       "      <th>keterangan</th>\n",
       "      <th>Meninggal</th>\n",
       "      <th>Tidak meninggal</th>\n",
       "      <th>meninggal(%)</th>\n",
       "    </tr>\n",
       "  </thead>\n",
       "  <tbody>\n",
       "    <tr>\n",
       "      <th>2</th>\n",
       "      <td>anemia dan hipertensi</td>\n",
       "      <td>19</td>\n",
       "      <td>29</td>\n",
       "      <td>39.58</td>\n",
       "    </tr>\n",
       "    <tr>\n",
       "      <th>3</th>\n",
       "      <td>diabetes dan hipertensi</td>\n",
       "      <td>17</td>\n",
       "      <td>26</td>\n",
       "      <td>39.53</td>\n",
       "    </tr>\n",
       "    <tr>\n",
       "      <th>6</th>\n",
       "      <td>hipertensi</td>\n",
       "      <td>39</td>\n",
       "      <td>66</td>\n",
       "      <td>37.14</td>\n",
       "    </tr>\n",
       "    <tr>\n",
       "      <th>4</th>\n",
       "      <td>anemia</td>\n",
       "      <td>46</td>\n",
       "      <td>83</td>\n",
       "      <td>35.66</td>\n",
       "    </tr>\n",
       "    <tr>\n",
       "      <th>0</th>\n",
       "      <td>Anemia, Diabetes, dan Hipertensi</td>\n",
       "      <td>6</td>\n",
       "      <td>11</td>\n",
       "      <td>35.29</td>\n",
       "    </tr>\n",
       "    <tr>\n",
       "      <th>1</th>\n",
       "      <td>anemia dan diabetes</td>\n",
       "      <td>18</td>\n",
       "      <td>35</td>\n",
       "      <td>33.96</td>\n",
       "    </tr>\n",
       "    <tr>\n",
       "      <th>5</th>\n",
       "      <td>diabetes</td>\n",
       "      <td>40</td>\n",
       "      <td>85</td>\n",
       "      <td>32.00</td>\n",
       "    </tr>\n",
       "  </tbody>\n",
       "</table>\n",
       "</div>"
      ],
      "text/plain": [
       "                         keterangan  Meninggal  Tidak meninggal  meninggal(%)\n",
       "2             anemia dan hipertensi         19               29         39.58\n",
       "3           diabetes dan hipertensi         17               26         39.53\n",
       "6                        hipertensi         39               66         37.14\n",
       "4                            anemia         46               83         35.66\n",
       "0  Anemia, Diabetes, dan Hipertensi          6               11         35.29\n",
       "1               anemia dan diabetes         18               35         33.96\n",
       "5                          diabetes         40               85         32.00"
      ]
     },
     "execution_count": 33,
     "metadata": {},
     "output_type": "execute_result"
    }
   ],
   "source": [
    "#mengurutkan berdasarkan persentase kematian dari tertinggi ke terendah\n",
    "ADH_df.sort_values(by='meninggal(%)', ascending=False)"
   ]
  },
  {
   "cell_type": "markdown",
   "id": "2f54eab9",
   "metadata": {},
   "source": [
    "Berdasarkan tabel diatas didapat informasi bahwa penderita penyakit jantung yang memiliki riwayat penyakit anemia dan hipertensi atau diabetes dan hipertensi memiliki persentase kematian yang paling tinggi. \n",
    "\n",
    "Persentase yang meninggal pada data diatas juga menunjukan angka dikisaran 30% keatas  yang menunjukan adanya kemungkinan peningkatan risiko kematian bagi pasien penyakit jantung yang memiliki riwayat penyakit anemia, hipertensi, atau diabetes."
   ]
  },
  {
   "cell_type": "markdown",
   "id": "625f1b56",
   "metadata": {},
   "source": [
    "## Data kontinu"
   ]
  },
  {
   "cell_type": "code",
   "execution_count": 34,
   "id": "d39f8313",
   "metadata": {},
   "outputs": [
    {
     "data": {
      "text/html": [
       "<div>\n",
       "<style scoped>\n",
       "    .dataframe tbody tr th:only-of-type {\n",
       "        vertical-align: middle;\n",
       "    }\n",
       "\n",
       "    .dataframe tbody tr th {\n",
       "        vertical-align: top;\n",
       "    }\n",
       "\n",
       "    .dataframe thead th {\n",
       "        text-align: right;\n",
       "    }\n",
       "</style>\n",
       "<table border=\"1\" class=\"dataframe\">\n",
       "  <thead>\n",
       "    <tr style=\"text-align: right;\">\n",
       "      <th></th>\n",
       "      <th>age</th>\n",
       "      <th>anaemia</th>\n",
       "      <th>creatinine_phosphokinase</th>\n",
       "      <th>diabetes</th>\n",
       "      <th>ejection_fraction</th>\n",
       "      <th>hypertension</th>\n",
       "      <th>platelets</th>\n",
       "      <th>serum_creatinine</th>\n",
       "      <th>serum_sodium</th>\n",
       "      <th>sex</th>\n",
       "      <th>smoking</th>\n",
       "      <th>time</th>\n",
       "      <th>death_event</th>\n",
       "    </tr>\n",
       "  </thead>\n",
       "  <tbody>\n",
       "    <tr>\n",
       "      <th>0</th>\n",
       "      <td>75.0</td>\n",
       "      <td>0</td>\n",
       "      <td>582</td>\n",
       "      <td>0</td>\n",
       "      <td>20</td>\n",
       "      <td>1</td>\n",
       "      <td>265000.00</td>\n",
       "      <td>1.9</td>\n",
       "      <td>130</td>\n",
       "      <td>1</td>\n",
       "      <td>0</td>\n",
       "      <td>4</td>\n",
       "      <td>1</td>\n",
       "    </tr>\n",
       "    <tr>\n",
       "      <th>1</th>\n",
       "      <td>55.0</td>\n",
       "      <td>0</td>\n",
       "      <td>7861</td>\n",
       "      <td>0</td>\n",
       "      <td>38</td>\n",
       "      <td>0</td>\n",
       "      <td>263358.03</td>\n",
       "      <td>1.1</td>\n",
       "      <td>136</td>\n",
       "      <td>1</td>\n",
       "      <td>0</td>\n",
       "      <td>6</td>\n",
       "      <td>1</td>\n",
       "    </tr>\n",
       "    <tr>\n",
       "      <th>2</th>\n",
       "      <td>65.0</td>\n",
       "      <td>0</td>\n",
       "      <td>146</td>\n",
       "      <td>0</td>\n",
       "      <td>20</td>\n",
       "      <td>0</td>\n",
       "      <td>162000.00</td>\n",
       "      <td>1.3</td>\n",
       "      <td>129</td>\n",
       "      <td>1</td>\n",
       "      <td>1</td>\n",
       "      <td>7</td>\n",
       "      <td>1</td>\n",
       "    </tr>\n",
       "    <tr>\n",
       "      <th>3</th>\n",
       "      <td>50.0</td>\n",
       "      <td>1</td>\n",
       "      <td>111</td>\n",
       "      <td>0</td>\n",
       "      <td>20</td>\n",
       "      <td>0</td>\n",
       "      <td>210000.00</td>\n",
       "      <td>1.9</td>\n",
       "      <td>137</td>\n",
       "      <td>1</td>\n",
       "      <td>0</td>\n",
       "      <td>7</td>\n",
       "      <td>1</td>\n",
       "    </tr>\n",
       "    <tr>\n",
       "      <th>4</th>\n",
       "      <td>65.0</td>\n",
       "      <td>1</td>\n",
       "      <td>160</td>\n",
       "      <td>1</td>\n",
       "      <td>20</td>\n",
       "      <td>0</td>\n",
       "      <td>327000.00</td>\n",
       "      <td>2.7</td>\n",
       "      <td>116</td>\n",
       "      <td>0</td>\n",
       "      <td>0</td>\n",
       "      <td>8</td>\n",
       "      <td>1</td>\n",
       "    </tr>\n",
       "  </tbody>\n",
       "</table>\n",
       "</div>"
      ],
      "text/plain": [
       "    age  anaemia  creatinine_phosphokinase  diabetes  ejection_fraction  \\\n",
       "0  75.0        0                       582         0                 20   \n",
       "1  55.0        0                      7861         0                 38   \n",
       "2  65.0        0                       146         0                 20   \n",
       "3  50.0        1                       111         0                 20   \n",
       "4  65.0        1                       160         1                 20   \n",
       "\n",
       "   hypertension  platelets  serum_creatinine  serum_sodium  sex  smoking  \\\n",
       "0             1  265000.00               1.9           130    1        0   \n",
       "1             0  263358.03               1.1           136    1        0   \n",
       "2             0  162000.00               1.3           129    1        1   \n",
       "3             0  210000.00               1.9           137    1        0   \n",
       "4             0  327000.00               2.7           116    0        0   \n",
       "\n",
       "   time  death_event  \n",
       "0     4            1  \n",
       "1     6            1  \n",
       "2     7            1  \n",
       "3     7            1  \n",
       "4     8            1  "
      ]
     },
     "execution_count": 34,
     "metadata": {},
     "output_type": "execute_result"
    }
   ],
   "source": [
    "df.head()"
   ]
  },
  {
   "cell_type": "code",
   "execution_count": 35,
   "id": "2c2fa8b6",
   "metadata": {},
   "outputs": [
    {
     "data": {
      "text/html": [
       "<div>\n",
       "<style scoped>\n",
       "    .dataframe tbody tr th:only-of-type {\n",
       "        vertical-align: middle;\n",
       "    }\n",
       "\n",
       "    .dataframe tbody tr th {\n",
       "        vertical-align: top;\n",
       "    }\n",
       "\n",
       "    .dataframe thead th {\n",
       "        text-align: right;\n",
       "    }\n",
       "</style>\n",
       "<table border=\"1\" class=\"dataframe\">\n",
       "  <thead>\n",
       "    <tr style=\"text-align: right;\">\n",
       "      <th></th>\n",
       "      <th>age</th>\n",
       "      <th>creatinine_phosphokinase</th>\n",
       "      <th>ejection_fraction</th>\n",
       "      <th>platelets</th>\n",
       "      <th>serum_creatinine</th>\n",
       "      <th>serum_sodium</th>\n",
       "      <th>time</th>\n",
       "    </tr>\n",
       "  </thead>\n",
       "  <tbody>\n",
       "    <tr>\n",
       "      <th>0</th>\n",
       "      <td>75.0</td>\n",
       "      <td>582</td>\n",
       "      <td>20</td>\n",
       "      <td>265000.00</td>\n",
       "      <td>1.9</td>\n",
       "      <td>130</td>\n",
       "      <td>4</td>\n",
       "    </tr>\n",
       "    <tr>\n",
       "      <th>1</th>\n",
       "      <td>55.0</td>\n",
       "      <td>7861</td>\n",
       "      <td>38</td>\n",
       "      <td>263358.03</td>\n",
       "      <td>1.1</td>\n",
       "      <td>136</td>\n",
       "      <td>6</td>\n",
       "    </tr>\n",
       "    <tr>\n",
       "      <th>2</th>\n",
       "      <td>65.0</td>\n",
       "      <td>146</td>\n",
       "      <td>20</td>\n",
       "      <td>162000.00</td>\n",
       "      <td>1.3</td>\n",
       "      <td>129</td>\n",
       "      <td>7</td>\n",
       "    </tr>\n",
       "    <tr>\n",
       "      <th>3</th>\n",
       "      <td>50.0</td>\n",
       "      <td>111</td>\n",
       "      <td>20</td>\n",
       "      <td>210000.00</td>\n",
       "      <td>1.9</td>\n",
       "      <td>137</td>\n",
       "      <td>7</td>\n",
       "    </tr>\n",
       "    <tr>\n",
       "      <th>4</th>\n",
       "      <td>65.0</td>\n",
       "      <td>160</td>\n",
       "      <td>20</td>\n",
       "      <td>327000.00</td>\n",
       "      <td>2.7</td>\n",
       "      <td>116</td>\n",
       "      <td>8</td>\n",
       "    </tr>\n",
       "  </tbody>\n",
       "</table>\n",
       "</div>"
      ],
      "text/plain": [
       "    age  creatinine_phosphokinase  ejection_fraction  platelets  \\\n",
       "0  75.0                       582                 20  265000.00   \n",
       "1  55.0                      7861                 38  263358.03   \n",
       "2  65.0                       146                 20  162000.00   \n",
       "3  50.0                       111                 20  210000.00   \n",
       "4  65.0                       160                 20  327000.00   \n",
       "\n",
       "   serum_creatinine  serum_sodium  time  \n",
       "0               1.9           130     4  \n",
       "1               1.1           136     6  \n",
       "2               1.3           129     7  \n",
       "3               1.9           137     7  \n",
       "4               2.7           116     8  "
      ]
     },
     "execution_count": 35,
     "metadata": {},
     "output_type": "execute_result"
    }
   ],
   "source": [
    "#menyimpan data kontinu dalam dataframe baru\n",
    "kontinu=['age','creatinine_phosphokinase','ejection_fraction',\n",
    "        'platelets','serum_creatinine','serum_sodium','time']\n",
    "df_kontinu=df[kontinu]\n",
    "df_kontinu.head()"
   ]
  },
  {
   "cell_type": "code",
   "execution_count": 36,
   "id": "6f5616e8",
   "metadata": {},
   "outputs": [
    {
     "data": {
      "text/plain": [
       "array([[<AxesSubplot:title={'center':'age'}>,\n",
       "        <AxesSubplot:title={'center':'creatinine_phosphokinase'}>,\n",
       "        <AxesSubplot:title={'center':'ejection_fraction'}>],\n",
       "       [<AxesSubplot:title={'center':'platelets'}>,\n",
       "        <AxesSubplot:title={'center':'serum_creatinine'}>,\n",
       "        <AxesSubplot:title={'center':'serum_sodium'}>],\n",
       "       [<AxesSubplot:title={'center':'time'}>, <AxesSubplot:>,\n",
       "        <AxesSubplot:>]], dtype=object)"
      ]
     },
     "execution_count": 36,
     "metadata": {},
     "output_type": "execute_result"
    },
    {
     "data": {
      "image/png": "[encoded data removed]",
      "text/plain": [
       "<Figure size 1440x1440 with 9 Axes>"
      ]
     },
     "metadata": {
      "needs_background": "light"
     },
     "output_type": "display_data"
    }
   ],
   "source": [
    "#melihat distribusi frekuensi dari data kontinu\n",
    "df_kontinu.hist(figsize=(20,20))"
   ]
  },
  {
   "cell_type": "code",
   "execution_count": 37,
   "id": "6d70699c",
   "metadata": {},
   "outputs": [
    {
     "name": "stdout",
     "output_type": "stream",
     "text": [
      "Age:\n",
      " DescribeResult(nobs=299, minmax=(40.0, 95.0), mean=60.83389297658862, variance=141.48648290797067, skewness=0.4230619067286353, kurtosis=-0.18487053195417458)\n",
      "\n",
      " Creatinine phosphokinase:\n",
      " DescribeResult(nobs=299, minmax=(23, 7861), mean=581.8394648829432, variance=941458.5714574308, skewness=4.463110084653752, kurtosis=25.149046196580798)\n",
      "\n",
      " Ejection Fraction:\n",
      " DescribeResult(nobs=299, minmax=(14, 80), mean=38.08361204013378, variance=140.0634553657606, skewness=0.555382751697321, kurtosis=0.0414093598193892)\n",
      "\n",
      " platelets:\n",
      " DescribeResult(nobs=299, minmax=(25100.0, 850000.0), mean=263358.02926421404, variance=9565668749.448881, skewness=1.4623208382757793, kurtosis=6.209254515302209)\n",
      "\n",
      " serum_creatinine\n",
      " DescribeResult(nobs=299, minmax=(0.5, 9.4), mean=1.3938795986622072, variance=1.070211072703194, skewness=4.455995882049027, kurtosis=25.82823866113201)\n",
      "\n",
      " serum_sodium:\n",
      " DescribeResult(nobs=299, minmax=(113, 148), mean=136.62541806020067, variance=19.469955781015017, skewness=-1.0481360160574988, kurtosis=4.119712007624291)\n",
      "\n",
      " time:\n",
      " DescribeResult(nobs=299, minmax=(4, 285), mean=130.2608695652174, variance=6023.965275751386, skewness=0.12780264559841184, kurtosis=-1.2120479666763422)\n"
     ]
    }
   ],
   "source": [
    "#Deskripsi statistik fitur kontinuous\n",
    "print('Age:\\n',scipy.stats.describe(df['age'], ddof=1, bias=False))\n",
    "print('\\n Creatinine phosphokinase:\\n',scipy.stats.describe(df['creatinine_phosphokinase'], ddof=1, bias=False))\n",
    "print('\\n Ejection Fraction:\\n',scipy.stats.describe(df['ejection_fraction'], ddof=1, bias=False))\n",
    "print('\\n platelets:\\n',scipy.stats.describe(df['platelets'], ddof=1, bias=False))\n",
    "print('\\n serum_creatinine\\n',scipy.stats.describe(df['serum_creatinine'], ddof=1, bias=False))\n",
    "print('\\n serum_sodium:\\n',scipy.stats.describe(df['serum_sodium'], ddof=1, bias=False))\n",
    "print('\\n time:\\n',scipy.stats.describe(df['time'], ddof=1, bias=False))"
   ]
  },
  {
   "cell_type": "markdown",
   "id": "5768b19d",
   "metadata": {},
   "source": [
    "- data pada fitur 'age' memiliki kemencengan positif dimana rata-rata umur dan mediannya lebuh besar dibandingkan modusnya namun, kemencengannya tidak terlalu kekanan dan masih mendekati normal.\n",
    "\n",
    "- Creatinine phosphokinase pada pasien penyakit jantung berkisar diantara 23-7861 mcg/L, dengan rata-rata 581.84 mcg/L. Namun kadar creatinine phosphokinase pada pasien sangat beragam dan distribusi frekuensinya tidak normal.Kemencengannya kekanan(positive skewness)\n",
    "\n",
    "- ejection fraction pada pasien penyakit jantung berkisar diantara 14%-80% dengan rata-rata 38%, yang mana menunjukan ejection fraction yang rendah. Normalnya ejection fraction berada diangka 53%-73%. Dapat diduga pasien penyakin jantung memiliki ejection fraction yang rendah\n",
    "\n",
    "- data pada fitur platelet memiliki kemencengan ke kanan dan berbentuk kurva lepto kurtik. Namun kemencengannya tidak terlalu jauh dari distribusi normal. Pada data pasien penyakit jantung terdapat 25100-850000 kiloplatelets/ml dengan rata-rata 263358 yang menunjukan trombosit/platelet dalam darah pasien penyakit jantung cukup normal namun perlu dilihat lagi apakah jumlah trombosit/platelet dalam darah mempengaruhi mortalitasnya.\n",
    "\n",
    "- Data pada fitur serum kreatinin cukup beragam dan kemencengannya ke kanan ( jauh dari normal) dengan rentang antara 0.5-9.4\n"
   ]
  },
  {
   "cell_type": "code",
   "execution_count": 38,
   "id": "c93beca8",
   "metadata": {},
   "outputs": [
    {
     "data": {
      "image/png": "[encoded data removed]",
      "text/plain": [
       "<Figure size 1080x1080 with 6 Axes>"
      ]
     },
     "metadata": {
      "needs_background": "light"
     },
     "output_type": "display_data"
    }
   ],
   "source": [
    "#melihat sebaran datanya melalui boxplot\n",
    "fig=plt.figure(figsize=(15,15))\n",
    "ax1=fig.add_subplot(2,3,1)\n",
    "ax2=fig.add_subplot(2,3,2)\n",
    "ax3=fig.add_subplot(2,3,3)\n",
    "ax4=fig.add_subplot(2,3,4)\n",
    "ax5=fig.add_subplot(2,3,5)\n",
    "ax6=fig.add_subplot(2,3,6)\n",
    "#membuat boxplot masing-masing fitur\n",
    "df_kontinu[['age']].plot(kind='box', ax=ax1)\n",
    "df_kontinu[['creatinine_phosphokinase']].plot(kind='box', ax=ax2)\n",
    "df_kontinu[['ejection_fraction']].plot(kind='box', ax=ax3)\n",
    "df_kontinu[['platelets']].plot(kind='box', ax=ax4)\n",
    "df_kontinu[['serum_creatinine']].plot(kind='box', ax=ax5)\n",
    "df_kontinu[['serum_sodium']].plot(kind='box', ax=ax6)\n",
    "plt.show()"
   ]
  },
  {
   "cell_type": "markdown",
   "id": "d4fa69dd",
   "metadata": {},
   "source": [
    "dari boxplot tersebut terdapat beberapa fitur yang memiliki banyak outlier seperti creatinine phosphokinase, platelets, dan serum_creatinine sehingga perlu di handle dengan metode yang sesuai.\n",
    "\n",
    "creatinine_phosphokinase dan dan serum_creatinine memiliki distribusi data yang menceng ke kanan (positive skewness) serta seluruh outlier lebih besar dari batas atas outlier(high boundaries) sehingga outlier akan di remove karena membuat data menjadi tidak seimbang\n",
    "\n",
    "sementara untuk fitur platelets, outlier akan dihandle dengan metode winsorize"
   ]
  },
  {
   "cell_type": "code",
   "execution_count": 39,
   "id": "65d08c72",
   "metadata": {},
   "outputs": [
    {
     "name": "stdout",
     "output_type": "stream",
     "text": [
      "batas bawah : -581.75\n",
      "batas atas : 1280.25\n",
      "banyaknya outlier: 29\n"
     ]
    }
   ],
   "source": [
    "#mencari nilai outlier pada fitur creatinine_phosphokinase\n",
    "Q1_CP=df['creatinine_phosphokinase'].quantile(0.25)\n",
    "Q3_CP=df['creatinine_phosphokinase'].quantile(0.75)\n",
    "IQR_CP=1.5*(Q3_CP-Q1_CP)\n",
    "low_CP=Q1_CP-IQR_CP\n",
    "high_CP=Q3_CP+IQR_CP\n",
    "print('batas bawah :', low_CP)\n",
    "print('batas atas :', high_CP)\n",
    "#melihat banyaknya data outlier\n",
    "print('banyaknya outlier:',len(df[(df['creatinine_phosphokinase']<low_CP) | (df['creatinine_phosphokinase']>high_CP)]))\n"
   ]
  },
  {
   "cell_type": "code",
   "execution_count": 40,
   "id": "3725c65d",
   "metadata": {},
   "outputs": [
    {
     "name": "stdout",
     "output_type": "stream",
     "text": [
      "batas bawah : 0.15000000000000024\n",
      "batas atas : 2.1499999999999995\n",
      "banyaknya outlier: 29\n"
     ]
    }
   ],
   "source": [
    "#mencari nilai outlier pada fitur serum_creatinine\n",
    "Q1_SC=df['serum_creatinine'].quantile(0.25)\n",
    "Q3_SC=df['serum_creatinine'].quantile(0.75)\n",
    "IQR_SC=1.5*(Q3_SC-Q1_SC)\n",
    "low_SC=Q1_SC-IQR_SC\n",
    "high_SC=Q3_SC+IQR_SC\n",
    "print('batas bawah :', low_SC)\n",
    "print('batas atas :', high_SC)\n",
    "#melihat banyaknya data outlier\n",
    "print('banyaknya outlier:',len(df[(df['serum_creatinine']<low_SC) | (df['serum_creatinine']>high_SC)]))"
   ]
  },
  {
   "cell_type": "code",
   "execution_count": 41,
   "id": "58780458",
   "metadata": {},
   "outputs": [
    {
     "data": {
      "text/plain": [
       "21"
      ]
     },
     "execution_count": 41,
     "metadata": {},
     "output_type": "execute_result"
    }
   ],
   "source": [
    "#mencari nilai outlier pada fitur platelets\n",
    "Q1_P=df['platelets'].quantile(0.25)\n",
    "Q3_P=df['platelets'].quantile(0.75)\n",
    "IQR_P=1.5*(Q3_P-Q1_P)\n",
    "low_P=Q1_P-IQR_P\n",
    "high_P=Q3_P+IQR_P\n",
    "#melihat banyaknya data outlier\n",
    "len(df[(df['platelets']<low_P) | (df['platelets']>high_P)])"
   ]
  },
  {
   "cell_type": "code",
   "execution_count": 42,
   "id": "196ab32f",
   "metadata": {},
   "outputs": [
    {
     "data": {
      "image/png": "[encoded data removed]",
      "text/plain": [
       "<Figure size 432x288 with 2 Axes>"
      ]
     },
     "metadata": {
      "needs_background": "light"
     },
     "output_type": "display_data"
    }
   ],
   "source": [
    "#menghandle outlier fitur creatinine_phosphokinase dengan meremove outlier\n",
    "df=df[~((df['creatinine_phosphokinase']<low_CP) | (df['creatinine_phosphokinase']>high_CP))]\n",
    "#melihat boxplot dan histogramnya\n",
    "fig=plt.figure()\n",
    "ax1=fig.add_subplot(1,2,1)\n",
    "ax2=fig.add_subplot(1,2,2)\n",
    "df[['creatinine_phosphokinase']].hist(ax=ax1)\n",
    "df[['creatinine_phosphokinase']].plot(kind='box', ax=ax2)\n",
    "plt.show()"
   ]
  },
  {
   "cell_type": "code",
   "execution_count": 43,
   "id": "c0d234f2",
   "metadata": {},
   "outputs": [
    {
     "data": {
      "text/plain": [
       "(270, 13)"
      ]
     },
     "execution_count": 43,
     "metadata": {},
     "output_type": "execute_result"
    }
   ],
   "source": [
    "df.shape"
   ]
  },
  {
   "cell_type": "code",
   "execution_count": 44,
   "id": "fa3853f2",
   "metadata": {},
   "outputs": [
    {
     "data": {
      "image/png": "[encoded data removed]",
      "text/plain": [
       "<Figure size 432x288 with 2 Axes>"
      ]
     },
     "metadata": {
      "needs_background": "light"
     },
     "output_type": "display_data"
    }
   ],
   "source": [
    "#menghandle outlier fitur serum_creatinine dengan meremove outlier\n",
    "df=df[~((df['serum_creatinine']<low_SC) | (df['serum_creatinine']>high_SC))]\n",
    "#melihat boxplot dan histogramnya\n",
    "fig=plt.figure()\n",
    "ax1=fig.add_subplot(1,2,1)\n",
    "ax2=fig.add_subplot(1,2,2)\n",
    "df[['serum_creatinine']].hist(ax=ax1)\n",
    "df[['serum_creatinine']].plot(kind='box', ax=ax2)\n",
    "plt.show()"
   ]
  },
  {
   "cell_type": "code",
   "execution_count": 45,
   "id": "f25c3fdb",
   "metadata": {},
   "outputs": [
    {
     "data": {
      "text/plain": [
       "(243, 13)"
      ]
     },
     "execution_count": 45,
     "metadata": {},
     "output_type": "execute_result"
    }
   ],
   "source": [
    "df.shape"
   ]
  },
  {
   "cell_type": "code",
   "execution_count": 46,
   "id": "0aceb63f",
   "metadata": {},
   "outputs": [
    {
     "data": {
      "image/png": "[encoded data removed]",
      "text/plain": [
       "<Figure size 432x288 with 2 Axes>"
      ]
     },
     "metadata": {
      "needs_background": "light"
     },
     "output_type": "display_data"
    }
   ],
   "source": [
    "#menetapkan batasan nilai minimum dan maximum fitur data platelets\n",
    "df['platelets']= winsorize(df['platelets'],(0.025,0.05))\n",
    "#melihat boxplot dan histogramnya\n",
    "fig=plt.figure()\n",
    "ax1=fig.add_subplot(1,2,1)\n",
    "ax2=fig.add_subplot(1,2,2)\n",
    "df[['platelets']].hist(ax=ax1)\n",
    "df[['platelets']].plot(kind='box', ax=ax2)\n",
    "plt.show()"
   ]
  },
  {
   "cell_type": "markdown",
   "id": "f7ea6cf2",
   "metadata": {},
   "source": [
    "## Korelasi antar fitur"
   ]
  },
  {
   "cell_type": "code",
   "execution_count": 47,
   "id": "a03086e1",
   "metadata": {},
   "outputs": [
    {
     "data": {
      "text/html": [
       "<div>\n",
       "<style scoped>\n",
       "    .dataframe tbody tr th:only-of-type {\n",
       "        vertical-align: middle;\n",
       "    }\n",
       "\n",
       "    .dataframe tbody tr th {\n",
       "        vertical-align: top;\n",
       "    }\n",
       "\n",
       "    .dataframe thead th {\n",
       "        text-align: right;\n",
       "    }\n",
       "</style>\n",
       "<table border=\"1\" class=\"dataframe\">\n",
       "  <thead>\n",
       "    <tr style=\"text-align: right;\">\n",
       "      <th></th>\n",
       "      <th>age</th>\n",
       "      <th>anaemia</th>\n",
       "      <th>creatinine_phosphokinase</th>\n",
       "      <th>diabetes</th>\n",
       "      <th>ejection_fraction</th>\n",
       "      <th>hypertension</th>\n",
       "      <th>platelets</th>\n",
       "      <th>serum_creatinine</th>\n",
       "      <th>serum_sodium</th>\n",
       "      <th>sex</th>\n",
       "      <th>smoking</th>\n",
       "      <th>time</th>\n",
       "      <th>death_event</th>\n",
       "    </tr>\n",
       "  </thead>\n",
       "  <tbody>\n",
       "    <tr>\n",
       "      <th>0</th>\n",
       "      <td>75.0</td>\n",
       "      <td>0</td>\n",
       "      <td>582</td>\n",
       "      <td>0</td>\n",
       "      <td>20</td>\n",
       "      <td>1</td>\n",
       "      <td>265000.0</td>\n",
       "      <td>1.9</td>\n",
       "      <td>130</td>\n",
       "      <td>1</td>\n",
       "      <td>0</td>\n",
       "      <td>4</td>\n",
       "      <td>1</td>\n",
       "    </tr>\n",
       "    <tr>\n",
       "      <th>2</th>\n",
       "      <td>65.0</td>\n",
       "      <td>0</td>\n",
       "      <td>146</td>\n",
       "      <td>0</td>\n",
       "      <td>20</td>\n",
       "      <td>0</td>\n",
       "      <td>162000.0</td>\n",
       "      <td>1.3</td>\n",
       "      <td>129</td>\n",
       "      <td>1</td>\n",
       "      <td>1</td>\n",
       "      <td>7</td>\n",
       "      <td>1</td>\n",
       "    </tr>\n",
       "    <tr>\n",
       "      <th>3</th>\n",
       "      <td>50.0</td>\n",
       "      <td>1</td>\n",
       "      <td>111</td>\n",
       "      <td>0</td>\n",
       "      <td>20</td>\n",
       "      <td>0</td>\n",
       "      <td>210000.0</td>\n",
       "      <td>1.9</td>\n",
       "      <td>137</td>\n",
       "      <td>1</td>\n",
       "      <td>0</td>\n",
       "      <td>7</td>\n",
       "      <td>1</td>\n",
       "    </tr>\n",
       "    <tr>\n",
       "      <th>5</th>\n",
       "      <td>90.0</td>\n",
       "      <td>1</td>\n",
       "      <td>47</td>\n",
       "      <td>0</td>\n",
       "      <td>40</td>\n",
       "      <td>1</td>\n",
       "      <td>204000.0</td>\n",
       "      <td>2.1</td>\n",
       "      <td>132</td>\n",
       "      <td>1</td>\n",
       "      <td>1</td>\n",
       "      <td>8</td>\n",
       "      <td>1</td>\n",
       "    </tr>\n",
       "    <tr>\n",
       "      <th>6</th>\n",
       "      <td>75.0</td>\n",
       "      <td>1</td>\n",
       "      <td>246</td>\n",
       "      <td>0</td>\n",
       "      <td>15</td>\n",
       "      <td>0</td>\n",
       "      <td>127000.0</td>\n",
       "      <td>1.2</td>\n",
       "      <td>137</td>\n",
       "      <td>1</td>\n",
       "      <td>0</td>\n",
       "      <td>10</td>\n",
       "      <td>1</td>\n",
       "    </tr>\n",
       "  </tbody>\n",
       "</table>\n",
       "</div>"
      ],
      "text/plain": [
       "    age  anaemia  creatinine_phosphokinase  diabetes  ejection_fraction  \\\n",
       "0  75.0        0                       582         0                 20   \n",
       "2  65.0        0                       146         0                 20   \n",
       "3  50.0        1                       111         0                 20   \n",
       "5  90.0        1                        47         0                 40   \n",
       "6  75.0        1                       246         0                 15   \n",
       "\n",
       "   hypertension  platelets  serum_creatinine  serum_sodium  sex  smoking  \\\n",
       "0             1   265000.0               1.9           130    1        0   \n",
       "2             0   162000.0               1.3           129    1        1   \n",
       "3             0   210000.0               1.9           137    1        0   \n",
       "5             1   204000.0               2.1           132    1        1   \n",
       "6             0   127000.0               1.2           137    1        0   \n",
       "\n",
       "   time  death_event  \n",
       "0     4            1  \n",
       "2     7            1  \n",
       "3     7            1  \n",
       "5     8            1  \n",
       "6    10            1  "
      ]
     },
     "execution_count": 47,
     "metadata": {},
     "output_type": "execute_result"
    }
   ],
   "source": [
    "df.head()"
   ]
  },
  {
   "cell_type": "code",
   "execution_count": 48,
   "id": "88f1b540",
   "metadata": {},
   "outputs": [
    {
     "data": {
      "text/plain": [
       "<seaborn.axisgrid.FacetGrid at 0x1590ce1d970>"
      ]
     },
     "execution_count": 48,
     "metadata": {},
     "output_type": "execute_result"
    },
    {
     "data": {
      "image/png": "[encoded data removed]",
      "text/plain": [
       "<Figure size 430.25x360 with 1 Axes>"
      ]
     },
     "metadata": {
      "needs_background": "light"
     },
     "output_type": "display_data"
    }
   ],
   "source": [
    "# Hubungan time dengan age terhadap death_event\n",
    "sns.relplot(x='time', y='age',\n",
    "            hue='death_event', data=df)"
   ]
  },
  {
   "cell_type": "markdown",
   "id": "409b0426",
   "metadata": {},
   "source": [
    "Dari sctter plot tersebut terlihat bahwa terdapat unbalenced data pada fitur death_event yang mana kejadian meninggal lebih sedikit dibanding yang survive. Namun ada pola yang juga terlihat yakni pasien yang meninggal kebanyakan periode follow up kurang dari 100 hari."
   ]
  },
  {
   "cell_type": "code",
   "execution_count": 49,
   "id": "7ebcfc52",
   "metadata": {},
   "outputs": [
    {
     "data": {
      "text/plain": [
       "<AxesSubplot:>"
      ]
     },
     "execution_count": 49,
     "metadata": {},
     "output_type": "execute_result"
    },
    {
     "data": {
      "image/png": "[encoded data removed]",
      "text/plain": [
       "<Figure size 1080x1080 with 2 Axes>"
      ]
     },
     "metadata": {
      "needs_background": "light"
     },
     "output_type": "display_data"
    }
   ],
   "source": [
    "#melihat korelasi antar fitur\n",
    "plt.figure(figsize=(15,15))\n",
    "sns.heatmap(df.corr(), annot=True)"
   ]
  },
  {
   "cell_type": "markdown",
   "id": "bdf1dc75",
   "metadata": {},
   "source": [
    "Terdapat hubungan positif yang kuat antara death_event dengan age dan serum_creatinine sedangkan terdapat hubungan negatif yang kuat antara death_event dengan time dan ejection_fraction"
   ]
  },
  {
   "cell_type": "markdown",
   "id": "9ba45363",
   "metadata": {},
   "source": [
    "# Data Preprocessing"
   ]
  },
  {
   "cell_type": "code",
   "execution_count": 50,
   "id": "087955db",
   "metadata": {},
   "outputs": [],
   "source": [
    "#memisahkan input dan output\n",
    "x=df.drop(columns=['death_event'])\n",
    "y=df['death_event']\n",
    "#memisahkan data untuk training dan testing\n",
    "x_train, x_test, y_train, y_test= train_test_split(x,y, test_size=0.3)"
   ]
  },
  {
   "cell_type": "markdown",
   "id": "f52c6004",
   "metadata": {},
   "source": [
    "# Defining Model"
   ]
  },
  {
   "cell_type": "code",
   "execution_count": 51,
   "id": "def7ddfe",
   "metadata": {},
   "outputs": [],
   "source": [
    "model=RandomForestClassifier(n_estimators=44)"
   ]
  },
  {
   "cell_type": "markdown",
   "id": "fce2f670",
   "metadata": {},
   "source": [
    "Alasan pemilihan algoritma machine learning dengan menggunakan random forest karena mempertimbangkan cara kerja random forest yang memilih sample data secara acak dan membuat decision tree dari masing-masing sample tersbut kemudian output didapat dari rata-ratanya sehingga akan menghasilkan prediksi yang lebih akurat dan menghindri overfitting\n",
    "\n",
    "nilai n pada n_estimators akan dievaluasi lagi untuk mendapatkan akurasi terbaik"
   ]
  },
  {
   "cell_type": "markdown",
   "id": "a3cb17fc",
   "metadata": {},
   "source": [
    "# Model Training"
   ]
  },
  {
   "cell_type": "code",
   "execution_count": 52,
   "id": "336fc199",
   "metadata": {},
   "outputs": [
    {
     "data": {
      "text/plain": [
       "RandomForestClassifier(n_estimators=44)"
      ]
     },
     "execution_count": 52,
     "metadata": {},
     "output_type": "execute_result"
    }
   ],
   "source": [
    "model.fit(x_train, y_train)"
   ]
  },
  {
   "cell_type": "markdown",
   "id": "5bb2555b",
   "metadata": {},
   "source": [
    "# Model Evaluation"
   ]
  },
  {
   "cell_type": "code",
   "execution_count": 53,
   "id": "1a6ec5ff",
   "metadata": {},
   "outputs": [
    {
     "data": {
      "text/plain": [
       "0.863013698630137"
      ]
     },
     "execution_count": 53,
     "metadata": {},
     "output_type": "execute_result"
    }
   ],
   "source": [
    "y_pred=model.predict(x_test)\n",
    "#melihat accuracynya\n",
    "accuracy_score(y_test,y_pred)"
   ]
  },
  {
   "cell_type": "code",
   "execution_count": 54,
   "id": "993771c0",
   "metadata": {},
   "outputs": [
    {
     "data": {
      "image/png": "[encoded data removed]",
      "text/plain": [
       "<Figure size 576x576 with 1 Axes>"
      ]
     },
     "metadata": {
      "needs_background": "light"
     },
     "output_type": "display_data"
    }
   ],
   "source": [
    "#melihat confussion matrix\n",
    "cm=confusion_matrix(y_test, y_pred)\n",
    "fig, ax= plt.subplots(figsize=(8,8))\n",
    "ax.imshow(cm)\n",
    "ax.grid(False)\n",
    "ax.xaxis.set(ticks=(0,1),\n",
    "             ticklabels=('Predict 0','Predict 1'))\n",
    "ax.yaxis.set(ticks=(0,1),\n",
    "             ticklabels=('actual 0', 'actual 1'))\n",
    "ax.set_ylim(1.5,-0.5)\n",
    "for i in range(2):\n",
    "    for j in range(2):\n",
    "        ax.text(j, i, cm[i,j], ha='center', va='center',\n",
    "               color='red')\n",
    "plt.show()"
   ]
  },
  {
   "cell_type": "code",
   "execution_count": 55,
   "id": "eec31555",
   "metadata": {},
   "outputs": [
    {
     "data": {
      "text/plain": [
       "time                        0.343175\n",
       "ejection_fraction           0.140812\n",
       "serum_creatinine            0.130031\n",
       "age                         0.090808\n",
       "creatinine_phosphokinase    0.081797\n",
       "platelets                   0.074632\n",
       "serum_sodium                0.074263\n",
       "smoking                     0.018259\n",
       "diabetes                    0.014293\n",
       "anaemia                     0.012836\n",
       "sex                         0.011647\n",
       "hypertension                0.007446\n",
       "dtype: float64"
      ]
     },
     "execution_count": 55,
     "metadata": {},
     "output_type": "execute_result"
    }
   ],
   "source": [
    "#melihat fitur impotance \n",
    "imp=pd.Series(model.feature_importances_, index=x.columns).sort_values(ascending=False)\n",
    "imp"
   ]
  },
  {
   "cell_type": "code",
   "execution_count": 56,
   "id": "fca41c61",
   "metadata": {},
   "outputs": [
    {
     "data": {
      "image/png": "[encoded data removed]",
      "text/plain": [
       "<Figure size 432x288 with 1 Axes>"
      ]
     },
     "metadata": {
      "needs_background": "light"
     },
     "output_type": "display_data"
    }
   ],
   "source": [
    "#memvisualisasikan fitur importance\n",
    "sns.barplot(x=imp, y=imp.index)\n",
    "plt.xlabel('Feature Importance Score')\n",
    "plt.ylabel('Features')\n",
    "plt.title('Important Features')\n",
    "plt.show()"
   ]
  },
  {
   "cell_type": "markdown",
   "id": "78a91c2a",
   "metadata": {},
   "source": [
    "Dari grafik tersebut dapat disimpulkan bahwa kita dapat memprediksi death_event hanya dengan fitur data continuou dan fitur kategorikal yang digunakan hanya smoking. Maka fitur dengan data kategorikal seperti hypertension, anemia, sex, dan diabetes akan di drop"
   ]
  },
  {
   "cell_type": "markdown",
   "id": "86019400",
   "metadata": {},
   "source": [
    "## Remodeling Classifier"
   ]
  },
  {
   "cell_type": "code",
   "execution_count": 70,
   "id": "79e2c4b4",
   "metadata": {},
   "outputs": [],
   "source": [
    "x=df.drop(columns=['diabetes','sex','anaemia','hypertension','death_event'])\n",
    "y=df['death_event']\n",
    "x_train, x_test, y_train, y_test= train_test_split(x,y, test_size=0.3)"
   ]
  },
  {
   "cell_type": "code",
   "execution_count": 72,
   "id": "79be3f7e",
   "metadata": {},
   "outputs": [
    {
     "data": {
      "text/plain": [
       "RandomForestClassifier(n_estimators=44)"
      ]
     },
     "execution_count": 72,
     "metadata": {},
     "output_type": "execute_result"
    }
   ],
   "source": [
    "model=RandomForestClassifier(n_estimators=44)\n",
    "model.fit(x_train,y_train)"
   ]
  },
  {
   "cell_type": "code",
   "execution_count": 75,
   "id": "4afcd33c",
   "metadata": {},
   "outputs": [],
   "source": [
    "#menyimpan model untuk digunakan dalam deployment\n",
    "pickle.dump(model,open('model_RF.pkl','wb'))"
   ]
  },
  {
   "cell_type": "code",
   "execution_count": 76,
   "id": "2ec0b75e",
   "metadata": {},
   "outputs": [
    {
     "data": {
      "text/plain": [
       "0.863013698630137"
      ]
     },
     "execution_count": 76,
     "metadata": {},
     "output_type": "execute_result"
    }
   ],
   "source": [
    "y_pred=model.predict(x_test)\n",
    "accuracy_score(y_test,y_pred)"
   ]
  },
  {
   "cell_type": "code",
   "execution_count": 77,
   "id": "46a8fe62",
   "metadata": {},
   "outputs": [
    {
     "data": {
      "image/png": "[encoded data removed]",
      "text/plain": [
       "<Figure size 576x576 with 1 Axes>"
      ]
     },
     "metadata": {
      "needs_background": "light"
     },
     "output_type": "display_data"
    }
   ],
   "source": [
    "#melihat confussion matrix\n",
    "cm=confusion_matrix(y_test, y_pred)\n",
    "fig, ax= plt.subplots(figsize=(8,8))\n",
    "ax.imshow(cm)\n",
    "ax.grid(False)\n",
    "ax.xaxis.set(ticks=(0,1),\n",
    "             ticklabels=('Predict 0','Predict 1'))\n",
    "ax.yaxis.set(ticks=(0,1),\n",
    "             ticklabels=('actual 0', 'actual 1'))\n",
    "ax.set_ylim(1.5,-0.5)\n",
    "for i in range(2):\n",
    "    for j in range(2):\n",
    "        ax.text(j, i, cm[i,j], ha='center', va='center',\n",
    "               color='red')\n",
    "plt.show()"
   ]
  },
  {
   "cell_type": "markdown",
   "id": "9b4fc8ac",
   "metadata": {},
   "source": [
    "# Model Inference"
   ]
  },
  {
   "cell_type": "code",
   "execution_count": null,
   "id": "25813983",
   "metadata": {},
   "outputs": [],
   "source": [
    "x.head()"
   ]
  },
  {
   "cell_type": "code",
   "execution_count": 79,
   "id": "093de4ff",
   "metadata": {},
   "outputs": [
    {
     "name": "stdout",
     "output_type": "stream",
     "text": [
      "umur :65\n",
      "Creatinine phosphokinase :150\n",
      "ejection fraction :15\n",
      "platelets :2650000\n",
      "serum_creatinine:456\n",
      "serum_sodium:56\n",
      "smoking1\n",
      "time :5\n",
      "tidak meninggal\n"
     ]
    }
   ],
   "source": [
    "age=float(input('umur :'))\n",
    "creatin=float(input('Creatinine phosphokinase :'))\n",
    "ejection=float(input('ejection fraction :'))\n",
    "platelets=float(input('platelets :'))\n",
    "serum_c=float(input('serum_creatinine:'))\n",
    "serum_s=float(input('serum_sodium:'))\n",
    "smoking=int(input('smoking'))\n",
    "time=int(input('time :'))\n",
    "x_input=[[age,creatin,ejection,platelets,serum_c,serum_s,smoking,time]]\n",
    "x_input=scaler.fit_transform(x_input)\n",
    "y_output=model.predict(x_input)\n",
    "if y_output==0:\n",
    "    print('tidak meninggal')\n",
    "else:\n",
    "    print('meninggal')"
   ]
  },
  {
   "cell_type": "markdown",
   "id": "beb173a5",
   "metadata": {},
   "source": [
    "# Conclusion"
   ]
  },
  {
   "cell_type": "markdown",
   "id": "94e83590",
   "metadata": {},
   "source": [
    "- Beberapa fitur kategorikal memberikan informasi sebagai berikut :\n",
    "1. Terdapat lebih banyak penderita penyakit jantung pria daripada wanita demikian juga yang meninggal lebih banyak pria dibanding wanita\n",
    "2. Wanita yang merokok hanya ada sebanyak 1.3%\n",
    "3. Pasien yang meninggal selama masa follow up paling banyak menderita dua diantara tiga penyakit ( anaemia, diabetes, hipertensi)\n",
    "- Pada fitur data kontinu beberapa fitur tidak bedistribusi normal dan memiliki banyak outlier, sehingga beberapa outlier pada fitur dihapus dari baris data dan ada yang dihandle dengan winsorize.\n",
    "- Untuk memprediksi meninggal/tidaknya pasien penyakit jantung dapat di lakukan cukup dengan fitur-fitur data kontinu seperti creatinine phosphokinase, ejection fraction, platelets, serum creatinine, serum sodium, dan time namun, disisipkan fitur kategorikal smoking"
   ]
  },
  {
   "cell_type": "code",
   "execution_count": null,
   "id": "31677bbd",
   "metadata": {},
   "outputs": [],
   "source": []
  }
 ],
 "metadata": {
  "kernelspec": {
   "display_name": "Python 3",
   "language": "python",
   "name": "python3"
  },
  "language_info": {
   "codemirror_mode": {
    "name": "ipython",
    "version": 3
   },
   "file_extension": ".py",
   "mimetype": "text/x-python",
   "name": "python",
   "nbconvert_exporter": "python",
   "pygments_lexer": "ipython3",
   "version": "3.8.8"
  },
  "toc": {
   "base_numbering": 1,
   "nav_menu": {},
   "number_sections": true,
   "sideBar": true,
   "skip_h1_title": false,
   "title_cell": "Table of Contents",
   "title_sidebar": "Contents",
   "toc_cell": false,
   "toc_position": {
    "height": "calc(100% - 180px)",
    "left": "10px",
    "top": "150px",
    "width": "133.385px"
   },
   "toc_section_display": true,
   "toc_window_display": true
  }
 },
 "nbformat": 4,
 "nbformat_minor": 5
}
